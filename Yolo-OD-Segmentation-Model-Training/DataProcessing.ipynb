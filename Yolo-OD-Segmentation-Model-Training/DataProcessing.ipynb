{
 "cells": [
  {
   "cell_type": "code",
   "execution_count": 3,
   "id": "7aa948d9-dec9-4efb-8b41-8e53f4eda07d",
   "metadata": {},
   "outputs": [
    {
     "name": "stdout",
     "output_type": "stream",
     "text": [
      "Collecting ultralytics\n",
      "  Downloading ultralytics-8.3.25-py3-none-any.whl.metadata (35 kB)\n",
      "Requirement already satisfied: numpy>=1.23.0 in c:\\users\\souri\\anaconda3\\envs\\hda_env\\lib\\site-packages (from ultralytics) (1.26.4)\n",
      "Requirement already satisfied: matplotlib>=3.3.0 in c:\\users\\souri\\anaconda3\\envs\\hda_env\\lib\\site-packages (from ultralytics) (3.9.2)\n",
      "Collecting opencv-python>=4.6.0 (from ultralytics)\n",
      "  Downloading opencv_python-4.10.0.84-cp37-abi3-win_amd64.whl.metadata (20 kB)\n",
      "Requirement already satisfied: pillow>=7.1.2 in c:\\users\\souri\\anaconda3\\envs\\hda_env\\lib\\site-packages (from ultralytics) (10.4.0)\n",
      "Requirement already satisfied: pyyaml>=5.3.1 in c:\\users\\souri\\anaconda3\\envs\\hda_env\\lib\\site-packages (from ultralytics) (6.0.1)\n",
      "Requirement already satisfied: requests>=2.23.0 in c:\\users\\souri\\anaconda3\\envs\\hda_env\\lib\\site-packages (from ultralytics) (2.32.3)\n",
      "Requirement already satisfied: scipy>=1.4.1 in c:\\users\\souri\\anaconda3\\envs\\hda_env\\lib\\site-packages (from ultralytics) (1.13.1)\n",
      "Collecting torch>=1.8.0 (from ultralytics)\n",
      "  Downloading torch-2.5.1-cp310-cp310-win_amd64.whl.metadata (28 kB)\n",
      "Collecting torchvision>=0.9.0 (from ultralytics)\n",
      "  Downloading torchvision-0.20.1-cp310-cp310-win_amd64.whl.metadata (6.2 kB)\n",
      "Requirement already satisfied: tqdm>=4.64.0 in c:\\users\\souri\\anaconda3\\envs\\hda_env\\lib\\site-packages (from ultralytics) (4.66.5)\n",
      "Requirement already satisfied: psutil in c:\\users\\souri\\anaconda3\\envs\\hda_env\\lib\\site-packages (from ultralytics) (5.9.0)\n",
      "Requirement already satisfied: py-cpuinfo in c:\\users\\souri\\anaconda3\\envs\\hda_env\\lib\\site-packages (from ultralytics) (9.0.0)\n",
      "Requirement already satisfied: pandas>=1.1.4 in c:\\users\\souri\\anaconda3\\envs\\hda_env\\lib\\site-packages (from ultralytics) (2.2.2)\n",
      "Requirement already satisfied: seaborn>=0.11.0 in c:\\users\\souri\\anaconda3\\envs\\hda_env\\lib\\site-packages (from ultralytics) (0.13.2)\n",
      "Collecting ultralytics-thop>=2.0.0 (from ultralytics)\n",
      "  Downloading ultralytics_thop-2.0.10-py3-none-any.whl.metadata (9.4 kB)\n",
      "Requirement already satisfied: contourpy>=1.0.1 in c:\\users\\souri\\anaconda3\\envs\\hda_env\\lib\\site-packages (from matplotlib>=3.3.0->ultralytics) (1.2.0)\n",
      "Requirement already satisfied: cycler>=0.10 in c:\\users\\souri\\anaconda3\\envs\\hda_env\\lib\\site-packages (from matplotlib>=3.3.0->ultralytics) (0.11.0)\n",
      "Requirement already satisfied: fonttools>=4.22.0 in c:\\users\\souri\\anaconda3\\envs\\hda_env\\lib\\site-packages (from matplotlib>=3.3.0->ultralytics) (4.51.0)\n",
      "Requirement already satisfied: kiwisolver>=1.3.1 in c:\\users\\souri\\anaconda3\\envs\\hda_env\\lib\\site-packages (from matplotlib>=3.3.0->ultralytics) (1.4.4)\n",
      "Requirement already satisfied: packaging>=20.0 in c:\\users\\souri\\anaconda3\\envs\\hda_env\\lib\\site-packages (from matplotlib>=3.3.0->ultralytics) (24.1)\n",
      "Requirement already satisfied: pyparsing>=2.3.1 in c:\\users\\souri\\anaconda3\\envs\\hda_env\\lib\\site-packages (from matplotlib>=3.3.0->ultralytics) (3.1.2)\n",
      "Requirement already satisfied: python-dateutil>=2.7 in c:\\users\\souri\\anaconda3\\envs\\hda_env\\lib\\site-packages (from matplotlib>=3.3.0->ultralytics) (2.9.0.post0)\n",
      "Requirement already satisfied: pytz>=2020.1 in c:\\users\\souri\\anaconda3\\envs\\hda_env\\lib\\site-packages (from pandas>=1.1.4->ultralytics) (2024.1)\n",
      "Requirement already satisfied: tzdata>=2022.7 in c:\\users\\souri\\anaconda3\\envs\\hda_env\\lib\\site-packages (from pandas>=1.1.4->ultralytics) (2023.3)\n",
      "Requirement already satisfied: charset-normalizer<4,>=2 in c:\\users\\souri\\anaconda3\\envs\\hda_env\\lib\\site-packages (from requests>=2.23.0->ultralytics) (3.3.2)\n",
      "Requirement already satisfied: idna<4,>=2.5 in c:\\users\\souri\\anaconda3\\envs\\hda_env\\lib\\site-packages (from requests>=2.23.0->ultralytics) (3.7)\n",
      "Requirement already satisfied: urllib3<3,>=1.21.1 in c:\\users\\souri\\anaconda3\\envs\\hda_env\\lib\\site-packages (from requests>=2.23.0->ultralytics) (2.2.3)\n",
      "Requirement already satisfied: certifi>=2017.4.17 in c:\\users\\souri\\anaconda3\\envs\\hda_env\\lib\\site-packages (from requests>=2.23.0->ultralytics) (2024.8.30)\n",
      "Requirement already satisfied: filelock in c:\\users\\souri\\anaconda3\\envs\\hda_env\\lib\\site-packages (from torch>=1.8.0->ultralytics) (3.13.1)\n",
      "Requirement already satisfied: typing-extensions>=4.8.0 in c:\\users\\souri\\anaconda3\\envs\\hda_env\\lib\\site-packages (from torch>=1.8.0->ultralytics) (4.11.0)\n",
      "Requirement already satisfied: networkx in c:\\users\\souri\\anaconda3\\envs\\hda_env\\lib\\site-packages (from torch>=1.8.0->ultralytics) (3.3)\n",
      "Requirement already satisfied: jinja2 in c:\\users\\souri\\anaconda3\\envs\\hda_env\\lib\\site-packages (from torch>=1.8.0->ultralytics) (3.1.4)\n",
      "Requirement already satisfied: fsspec in c:\\users\\souri\\anaconda3\\envs\\hda_env\\lib\\site-packages (from torch>=1.8.0->ultralytics) (2024.6.1)\n",
      "Collecting sympy==1.13.1 (from torch>=1.8.0->ultralytics)\n",
      "  Using cached sympy-1.13.1-py3-none-any.whl.metadata (12 kB)\n",
      "Requirement already satisfied: mpmath<1.4,>=1.1.0 in c:\\users\\souri\\anaconda3\\envs\\hda_env\\lib\\site-packages (from sympy==1.13.1->torch>=1.8.0->ultralytics) (1.3.0)\n",
      "Requirement already satisfied: colorama in c:\\users\\souri\\anaconda3\\envs\\hda_env\\lib\\site-packages (from tqdm>=4.64.0->ultralytics) (0.4.6)\n",
      "Requirement already satisfied: six>=1.5 in c:\\users\\souri\\anaconda3\\envs\\hda_env\\lib\\site-packages (from python-dateutil>=2.7->matplotlib>=3.3.0->ultralytics) (1.16.0)\n",
      "Requirement already satisfied: MarkupSafe>=2.0 in c:\\users\\souri\\anaconda3\\envs\\hda_env\\lib\\site-packages (from jinja2->torch>=1.8.0->ultralytics) (2.1.3)\n",
      "Downloading ultralytics-8.3.25-py3-none-any.whl (878 kB)\n",
      "   ---------------------------------------- 0.0/878.7 kB ? eta -:--:--\n",
      "   ---------------------------------------- 878.7/878.7 kB 9.8 MB/s eta 0:00:00\n",
      "Downloading opencv_python-4.10.0.84-cp37-abi3-win_amd64.whl (38.8 MB)\n",
      "   ---------------------------------------- 0.0/38.8 MB ? eta -:--:--\n",
      "   -- ------------------------------------- 2.4/38.8 MB 10.3 MB/s eta 0:00:04\n",
      "   ----- ---------------------------------- 5.0/38.8 MB 12.1 MB/s eta 0:00:03\n",
      "   ------- -------------------------------- 7.1/38.8 MB 11.2 MB/s eta 0:00:03\n",
      "   ---------- ----------------------------- 10.0/38.8 MB 11.9 MB/s eta 0:00:03\n",
      "   ------------ --------------------------- 12.6/38.8 MB 12.1 MB/s eta 0:00:03\n",
      "   ---------------- ----------------------- 16.3/38.8 MB 13.1 MB/s eta 0:00:02\n",
      "   -------------------- ------------------- 20.2/38.8 MB 13.9 MB/s eta 0:00:02\n",
      "   ------------------------ --------------- 23.9/38.8 MB 14.5 MB/s eta 0:00:02\n",
      "   --------------------------- ------------ 26.7/38.8 MB 14.5 MB/s eta 0:00:01\n",
      "   ----------------------------- ---------- 29.1/38.8 MB 14.1 MB/s eta 0:00:01\n",
      "   -------------------------------- ------- 31.7/38.8 MB 14.0 MB/s eta 0:00:01\n",
      "   ----------------------------------- ---- 34.3/38.8 MB 13.9 MB/s eta 0:00:01\n",
      "   -------------------------------------- - 37.0/38.8 MB 13.8 MB/s eta 0:00:01\n",
      "   ---------------------------------------  38.8/38.8 MB 13.8 MB/s eta 0:00:01\n",
      "   ---------------------------------------- 38.8/38.8 MB 13.2 MB/s eta 0:00:00\n",
      "Downloading torch-2.5.1-cp310-cp310-win_amd64.whl (203.1 MB)\n",
      "   ---------------------------------------- 0.0/203.1 MB ? eta -:--:--\n",
      "   ---------------------------------------- 2.4/203.1 MB 13.4 MB/s eta 0:00:15\n",
      "    --------------------------------------- 4.5/203.1 MB 11.2 MB/s eta 0:00:18\n",
      "   - -------------------------------------- 7.1/203.1 MB 11.8 MB/s eta 0:00:17\n",
      "   - -------------------------------------- 10.0/203.1 MB 12.4 MB/s eta 0:00:16\n",
      "   -- ------------------------------------- 13.1/203.1 MB 12.8 MB/s eta 0:00:15\n",
      "   --- ------------------------------------ 16.0/203.1 MB 13.1 MB/s eta 0:00:15\n",
      "   --- ------------------------------------ 18.4/203.1 MB 12.9 MB/s eta 0:00:15\n",
      "   ---- ----------------------------------- 21.0/203.1 MB 12.9 MB/s eta 0:00:15\n",
      "   ---- ----------------------------------- 23.3/203.1 MB 12.7 MB/s eta 0:00:15\n",
      "   ----- ---------------------------------- 26.2/203.1 MB 12.8 MB/s eta 0:00:14\n",
      "   ----- ---------------------------------- 28.3/203.1 MB 12.6 MB/s eta 0:00:14\n",
      "   ------ --------------------------------- 30.7/203.1 MB 12.6 MB/s eta 0:00:14\n",
      "   ------ --------------------------------- 33.3/203.1 MB 12.5 MB/s eta 0:00:14\n",
      "   ------- -------------------------------- 35.7/203.1 MB 12.4 MB/s eta 0:00:14\n",
      "   ------- -------------------------------- 37.5/203.1 MB 12.2 MB/s eta 0:00:14\n",
      "   ------- -------------------------------- 39.8/203.1 MB 12.1 MB/s eta 0:00:14\n",
      "   -------- ------------------------------- 42.7/203.1 MB 12.2 MB/s eta 0:00:14\n",
      "   -------- ------------------------------- 45.1/203.1 MB 12.3 MB/s eta 0:00:13\n",
      "   --------- ------------------------------ 46.9/203.1 MB 12.0 MB/s eta 0:00:13\n",
      "   --------- ------------------------------ 48.8/203.1 MB 12.0 MB/s eta 0:00:13\n",
      "   ---------- ----------------------------- 50.9/203.1 MB 11.8 MB/s eta 0:00:13\n",
      "   ---------- ----------------------------- 53.0/203.1 MB 11.8 MB/s eta 0:00:13\n",
      "   ---------- ----------------------------- 55.3/203.1 MB 11.7 MB/s eta 0:00:13\n",
      "   ----------- ---------------------------- 57.9/203.1 MB 11.7 MB/s eta 0:00:13\n",
      "   ----------- ---------------------------- 60.0/203.1 MB 11.7 MB/s eta 0:00:13\n",
      "   ------------ --------------------------- 62.7/203.1 MB 11.7 MB/s eta 0:00:12\n",
      "   ------------ --------------------------- 64.7/203.1 MB 11.7 MB/s eta 0:00:12\n",
      "   ------------- -------------------------- 67.1/203.1 MB 11.7 MB/s eta 0:00:12\n",
      "   ------------- -------------------------- 69.5/203.1 MB 11.7 MB/s eta 0:00:12\n",
      "   -------------- ------------------------- 71.8/203.1 MB 11.7 MB/s eta 0:00:12\n",
      "   -------------- ------------------------- 73.4/203.1 MB 11.6 MB/s eta 0:00:12\n",
      "   -------------- ------------------------- 75.5/203.1 MB 11.5 MB/s eta 0:00:12\n",
      "   --------------- ------------------------ 77.9/203.1 MB 11.5 MB/s eta 0:00:11\n",
      "   --------------- ------------------------ 80.5/203.1 MB 11.5 MB/s eta 0:00:11\n",
      "   ---------------- ----------------------- 82.6/203.1 MB 11.5 MB/s eta 0:00:11\n",
      "   ---------------- ----------------------- 84.7/203.1 MB 11.4 MB/s eta 0:00:11\n",
      "   ----------------- ---------------------- 87.0/203.1 MB 11.4 MB/s eta 0:00:11\n",
      "   ----------------- ---------------------- 89.9/203.1 MB 11.5 MB/s eta 0:00:10\n",
      "   ------------------ --------------------- 93.1/203.1 MB 11.6 MB/s eta 0:00:10\n",
      "   ------------------ --------------------- 95.9/203.1 MB 11.6 MB/s eta 0:00:10\n",
      "   ------------------- -------------------- 98.8/203.1 MB 11.7 MB/s eta 0:00:09\n",
      "   ------------------- ------------------- 102.0/203.1 MB 11.8 MB/s eta 0:00:09\n",
      "   -------------------- ------------------ 104.6/203.1 MB 11.8 MB/s eta 0:00:09\n",
      "   -------------------- ------------------ 107.2/203.1 MB 11.8 MB/s eta 0:00:09\n",
      "   -------------------- ------------------ 109.3/203.1 MB 11.8 MB/s eta 0:00:08\n",
      "   --------------------- ----------------- 111.7/203.1 MB 11.8 MB/s eta 0:00:08\n",
      "   --------------------- ----------------- 114.0/203.1 MB 11.8 MB/s eta 0:00:08\n",
      "   ---------------------- ---------------- 116.4/203.1 MB 11.8 MB/s eta 0:00:08\n",
      "   ---------------------- ---------------- 119.0/203.1 MB 11.8 MB/s eta 0:00:08\n",
      "   ----------------------- --------------- 121.6/203.1 MB 11.8 MB/s eta 0:00:07\n",
      "   ----------------------- --------------- 124.3/203.1 MB 11.8 MB/s eta 0:00:07\n",
      "   ------------------------ -------------- 126.9/203.1 MB 11.8 MB/s eta 0:00:07\n",
      "   ------------------------ -------------- 129.5/203.1 MB 11.9 MB/s eta 0:00:07\n",
      "   ------------------------- ------------- 131.6/203.1 MB 11.9 MB/s eta 0:00:07\n",
      "   ------------------------- ------------- 134.5/203.1 MB 11.9 MB/s eta 0:00:06\n",
      "   -------------------------- ------------ 136.8/203.1 MB 11.9 MB/s eta 0:00:06\n",
      "   -------------------------- ------------ 138.9/203.1 MB 11.8 MB/s eta 0:00:06\n",
      "   --------------------------- ----------- 140.8/203.1 MB 11.8 MB/s eta 0:00:06\n",
      "   --------------------------- ----------- 143.1/203.1 MB 11.8 MB/s eta 0:00:06\n",
      "   --------------------------- ----------- 145.5/203.1 MB 11.8 MB/s eta 0:00:05\n",
      "   ---------------------------- ---------- 147.6/203.1 MB 11.8 MB/s eta 0:00:05\n",
      "   ---------------------------- ---------- 149.9/203.1 MB 11.7 MB/s eta 0:00:05\n",
      "   ----------------------------- --------- 152.3/203.1 MB 11.7 MB/s eta 0:00:05\n",
      "   ----------------------------- --------- 154.9/203.1 MB 11.8 MB/s eta 0:00:05\n",
      "   ------------------------------ -------- 157.0/203.1 MB 11.7 MB/s eta 0:00:04\n",
      "   ------------------------------ -------- 160.2/203.1 MB 11.8 MB/s eta 0:00:04\n",
      "   ------------------------------- ------- 163.1/203.1 MB 11.8 MB/s eta 0:00:04\n",
      "   ------------------------------- ------- 165.7/203.1 MB 11.8 MB/s eta 0:00:04\n",
      "   -------------------------------- ------ 168.8/203.1 MB 11.9 MB/s eta 0:00:03\n",
      "   -------------------------------- ------ 171.7/203.1 MB 11.9 MB/s eta 0:00:03\n",
      "   --------------------------------- ----- 174.6/203.1 MB 11.9 MB/s eta 0:00:03\n",
      "   ---------------------------------- ---- 178.0/203.1 MB 12.0 MB/s eta 0:00:03\n",
      "   ---------------------------------- ---- 180.9/203.1 MB 12.0 MB/s eta 0:00:02\n",
      "   ----------------------------------- --- 182.7/203.1 MB 12.0 MB/s eta 0:00:02\n",
      "   ----------------------------------- --- 185.6/203.1 MB 12.0 MB/s eta 0:00:02\n",
      "   ------------------------------------ -- 188.2/203.1 MB 12.0 MB/s eta 0:00:02\n",
      "   ------------------------------------ -- 190.6/203.1 MB 12.0 MB/s eta 0:00:02\n",
      "   ------------------------------------- - 193.2/203.1 MB 12.0 MB/s eta 0:00:01\n",
      "   ------------------------------------- - 195.6/203.1 MB 12.0 MB/s eta 0:00:01\n",
      "   --------------------------------------  197.9/203.1 MB 12.0 MB/s eta 0:00:01\n",
      "   --------------------------------------  199.8/203.1 MB 12.0 MB/s eta 0:00:01\n",
      "   --------------------------------------  201.6/203.1 MB 11.9 MB/s eta 0:00:01\n",
      "   --------------------------------------  202.9/203.1 MB 11.9 MB/s eta 0:00:01\n",
      "   --------------------------------------  202.9/203.1 MB 11.9 MB/s eta 0:00:01\n",
      "   --------------------------------------  202.9/203.1 MB 11.9 MB/s eta 0:00:01\n",
      "   --------------------------------------- 203.1/203.1 MB 11.5 MB/s eta 0:00:00\n",
      "Using cached sympy-1.13.1-py3-none-any.whl (6.2 MB)\n",
      "Downloading torchvision-0.20.1-cp310-cp310-win_amd64.whl (1.6 MB)\n",
      "   ---------------------------------------- 0.0/1.6 MB ? eta -:--:--\n",
      "   ---------------------------------------- 1.6/1.6 MB 8.3 MB/s eta 0:00:00\n",
      "Downloading ultralytics_thop-2.0.10-py3-none-any.whl (26 kB)\n",
      "Installing collected packages: sympy, opencv-python, torch, ultralytics-thop, torchvision, ultralytics\n",
      "  Attempting uninstall: sympy\n",
      "    Found existing installation: sympy 1.13.2\n",
      "    Uninstalling sympy-1.13.2:\n",
      "      Successfully uninstalled sympy-1.13.2\n",
      "Successfully installed opencv-python-4.10.0.84 sympy-1.13.1 torch-2.5.1 torchvision-0.20.1 ultralytics-8.3.25 ultralytics-thop-2.0.10\n"
     ]
    }
   ],
   "source": [
    "!pip install ultralytics"
   ]
  },
  {
   "cell_type": "code",
   "execution_count": 7,
   "id": "ddad018c-a44b-42e2-9a17-477034dfd44e",
   "metadata": {},
   "outputs": [],
   "source": [
    "import os\n",
    "\n",
    "# Path to the labels directory (train, valid, and test labels)\n",
    "labels_paths = ['Glaucoma/train/labels', 'Glaucoma/valid/labels', 'Glaucoma/test/labels']\n",
    "\n",
    "# Update each file in the labels directory\n",
    "for labels_path in labels_paths:\n",
    "    for label_file in os.listdir(labels_path):\n",
    "        file_path = os.path.join(labels_path, label_file)\n",
    "        with open(file_path, 'r') as file:\n",
    "            lines = file.readlines()\n",
    "        \n",
    "        # Rewrite lines with class_id set to 0\n",
    "        with open(file_path, 'w') as file:\n",
    "            for line in lines:\n",
    "                parts = line.strip().split()\n",
    "                parts[0] = '0'  # Set class_id to 0\n",
    "                file.write(\" \".join(parts) + \"\\n\")\n"
   ]
  },
  {
   "cell_type": "code",
   "execution_count": 8,
   "id": "edc38b15-9afc-448d-b00f-948c1b2bcf17",
   "metadata": {},
   "outputs": [
    {
     "name": "stdout",
     "output_type": "stream",
     "text": [
      "Ultralytics 8.3.25  Python-3.10.15 torch-2.5.1+cpu CPU (AMD Ryzen 5 5625U with Radeon Graphics)\n",
      "\u001b[34m\u001b[1mengine\\trainer: \u001b[0mtask=detect, mode=train, model=yolov8n.yaml, data=Glaucoma/data.yaml, epochs=100, time=None, patience=100, batch=16, imgsz=640, save=True, save_period=-1, cache=False, device=None, workers=8, project=YOLOv8_Fundus, name=disk_detection3, exist_ok=False, pretrained=True, optimizer=auto, verbose=True, seed=0, deterministic=True, single_cls=False, rect=False, cos_lr=False, close_mosaic=10, resume=False, amp=True, fraction=1.0, profile=False, freeze=None, multi_scale=False, overlap_mask=True, mask_ratio=4, dropout=0.0, val=True, split=val, save_json=False, save_hybrid=False, conf=None, iou=0.7, max_det=300, half=False, dnn=False, plots=True, source=None, vid_stride=1, stream_buffer=False, visualize=False, augment=False, agnostic_nms=False, classes=None, retina_masks=False, embed=None, show=False, save_frames=False, save_txt=False, save_conf=False, save_crop=False, show_labels=True, show_conf=True, show_boxes=True, line_width=None, format=torchscript, keras=False, optimize=False, int8=False, dynamic=False, simplify=True, opset=None, workspace=4, nms=False, lr0=0.01, lrf=0.01, momentum=0.937, weight_decay=0.0005, warmup_epochs=3.0, warmup_momentum=0.8, warmup_bias_lr=0.1, box=7.5, cls=0.5, dfl=1.5, pose=12.0, kobj=1.0, label_smoothing=0.0, nbs=64, hsv_h=0.015, hsv_s=0.7, hsv_v=0.4, degrees=0.0, translate=0.1, scale=0.5, shear=0.0, perspective=0.0, flipud=0.0, fliplr=0.5, bgr=0.0, mosaic=1.0, mixup=0.0, copy_paste=0.0, copy_paste_mode=flip, auto_augment=randaugment, erasing=0.4, crop_fraction=1.0, cfg=None, tracker=botsort.yaml, save_dir=YOLOv8_Fundus\\disk_detection3\n",
      "Overriding model.yaml nc=80 with nc=1\n",
      "\n",
      "                   from  n    params  module                                       arguments                     \n",
      "  0                  -1  1       464  ultralytics.nn.modules.conv.Conv             [3, 16, 3, 2]                 \n",
      "  1                  -1  1      4672  ultralytics.nn.modules.conv.Conv             [16, 32, 3, 2]                \n",
      "  2                  -1  1      7360  ultralytics.nn.modules.block.C2f             [32, 32, 1, True]             \n",
      "  3                  -1  1     18560  ultralytics.nn.modules.conv.Conv             [32, 64, 3, 2]                \n",
      "  4                  -1  2     49664  ultralytics.nn.modules.block.C2f             [64, 64, 2, True]             \n",
      "  5                  -1  1     73984  ultralytics.nn.modules.conv.Conv             [64, 128, 3, 2]               \n",
      "  6                  -1  2    197632  ultralytics.nn.modules.block.C2f             [128, 128, 2, True]           \n",
      "  7                  -1  1    295424  ultralytics.nn.modules.conv.Conv             [128, 256, 3, 2]              \n",
      "  8                  -1  1    460288  ultralytics.nn.modules.block.C2f             [256, 256, 1, True]           \n",
      "  9                  -1  1    164608  ultralytics.nn.modules.block.SPPF            [256, 256, 5]                 \n",
      " 10                  -1  1         0  torch.nn.modules.upsampling.Upsample         [None, 2, 'nearest']          \n",
      " 11             [-1, 6]  1         0  ultralytics.nn.modules.conv.Concat           [1]                           \n",
      " 12                  -1  1    148224  ultralytics.nn.modules.block.C2f             [384, 128, 1]                 \n",
      " 13                  -1  1         0  torch.nn.modules.upsampling.Upsample         [None, 2, 'nearest']          \n",
      " 14             [-1, 4]  1         0  ultralytics.nn.modules.conv.Concat           [1]                           \n",
      " 15                  -1  1     37248  ultralytics.nn.modules.block.C2f             [192, 64, 1]                  \n",
      " 16                  -1  1     36992  ultralytics.nn.modules.conv.Conv             [64, 64, 3, 2]                \n",
      " 17            [-1, 12]  1         0  ultralytics.nn.modules.conv.Concat           [1]                           \n",
      " 18                  -1  1    123648  ultralytics.nn.modules.block.C2f             [192, 128, 1]                 \n",
      " 19                  -1  1    147712  ultralytics.nn.modules.conv.Conv             [128, 128, 3, 2]              \n",
      " 20             [-1, 9]  1         0  ultralytics.nn.modules.conv.Concat           [1]                           \n",
      " 21                  -1  1    493056  ultralytics.nn.modules.block.C2f             [384, 256, 1]                 \n",
      " 22        [15, 18, 21]  1    751507  ultralytics.nn.modules.head.Detect           [1, [64, 128, 256]]           \n",
      "YOLOv8n summary: 225 layers, 3,011,043 parameters, 3,011,027 gradients, 8.2 GFLOPs\n",
      "\n",
      "Freezing layer 'model.22.dfl.conv.weight'\n"
     ]
    },
    {
     "name": "stderr",
     "output_type": "stream",
     "text": [
      "\u001b[34m\u001b[1mtrain: \u001b[0mScanning C:\\Users\\souri\\OneDrive\\Desktop\\HDA\\Glaucoma\\train\\labels... 140 images, 0 backgrounds, 0 corrupt: 100%\u001b[0m"
     ]
    },
    {
     "name": "stdout",
     "output_type": "stream",
     "text": [
      "\u001b[34m\u001b[1mtrain: \u001b[0mNew cache created: C:\\Users\\souri\\OneDrive\\Desktop\\HDA\\Glaucoma\\train\\labels.cache\n"
     ]
    },
    {
     "name": "stderr",
     "output_type": "stream",
     "text": [
      "\n",
      "\u001b[34m\u001b[1mval: \u001b[0mScanning C:\\Users\\souri\\OneDrive\\Desktop\\HDA\\Glaucoma\\valid\\labels... 44 images, 0 backgrounds, 0 corrupt: 100%|██\u001b[0m"
     ]
    },
    {
     "name": "stdout",
     "output_type": "stream",
     "text": [
      "\u001b[34m\u001b[1mval: \u001b[0mNew cache created: C:\\Users\\souri\\OneDrive\\Desktop\\HDA\\Glaucoma\\valid\\labels.cache\n",
      "Plotting labels to YOLOv8_Fundus\\disk_detection3\\labels.jpg... \n"
     ]
    },
    {
     "name": "stderr",
     "output_type": "stream",
     "text": [
      "\n"
     ]
    },
    {
     "name": "stdout",
     "output_type": "stream",
     "text": [
      "\u001b[34m\u001b[1moptimizer:\u001b[0m 'optimizer=auto' found, ignoring 'lr0=0.01' and 'momentum=0.937' and determining best 'optimizer', 'lr0' and 'momentum' automatically... \n",
      "\u001b[34m\u001b[1moptimizer:\u001b[0m AdamW(lr=0.002, momentum=0.9) with parameter groups 57 weight(decay=0.0), 64 weight(decay=0.0005), 63 bias(decay=0.0)\n",
      "Image sizes 640 train, 640 val\n",
      "Using 0 dataloader workers\n",
      "Logging results to \u001b[1mYOLOv8_Fundus\\disk_detection3\u001b[0m\n",
      "Starting training for 100 epochs...\n",
      "\n",
      "      Epoch    GPU_mem   box_loss   cls_loss   dfl_loss  Instances       Size\n"
     ]
    },
    {
     "name": "stderr",
     "output_type": "stream",
     "text": [
      "      1/100         0G      3.667      4.517      4.323         48        640: 100%|██████████| 9/9 [00:49<00:00,  5.48\n",
      "                 Class     Images  Instances      Box(P          R      mAP50  mAP50-95): 100%|██████████| 2/2 [00:05<0"
     ]
    },
    {
     "name": "stdout",
     "output_type": "stream",
     "text": [
      "                   all         44         88   0.000909      0.136   0.000528   0.000204\n"
     ]
    },
    {
     "name": "stderr",
     "output_type": "stream",
     "text": [
      "\n"
     ]
    },
    {
     "name": "stdout",
     "output_type": "stream",
     "text": [
      "\n",
      "      Epoch    GPU_mem   box_loss   cls_loss   dfl_loss  Instances       Size\n"
     ]
    },
    {
     "name": "stderr",
     "output_type": "stream",
     "text": [
      "      2/100         0G      3.559      4.002      4.199         32        640: 100%|██████████| 9/9 [00:45<00:00,  5.10\n",
      "                 Class     Images  Instances      Box(P          R      mAP50  mAP50-95): 100%|██████████| 2/2 [00:05<0"
     ]
    },
    {
     "name": "stdout",
     "output_type": "stream",
     "text": [
      "                   all         44         88   0.000985      0.148   0.000683   0.000255\n"
     ]
    },
    {
     "name": "stderr",
     "output_type": "stream",
     "text": [
      "\n"
     ]
    },
    {
     "name": "stdout",
     "output_type": "stream",
     "text": [
      "\n",
      "      Epoch    GPU_mem   box_loss   cls_loss   dfl_loss  Instances       Size\n"
     ]
    },
    {
     "name": "stderr",
     "output_type": "stream",
     "text": [
      "      3/100         0G      3.391      3.601      4.116         33        640: 100%|██████████| 9/9 [00:45<00:00,  5.01\n",
      "                 Class     Images  Instances      Box(P          R      mAP50  mAP50-95): 100%|██████████| 2/2 [00:05<0"
     ]
    },
    {
     "name": "stdout",
     "output_type": "stream",
     "text": [
      "                   all         44         88   0.000985      0.148   0.000655   0.000238\n"
     ]
    },
    {
     "name": "stderr",
     "output_type": "stream",
     "text": [
      "\n"
     ]
    },
    {
     "name": "stdout",
     "output_type": "stream",
     "text": [
      "\n",
      "      Epoch    GPU_mem   box_loss   cls_loss   dfl_loss  Instances       Size\n"
     ]
    },
    {
     "name": "stderr",
     "output_type": "stream",
     "text": [
      "      4/100         0G      3.333      3.202      4.014         35        640: 100%|██████████| 9/9 [00:44<00:00,  4.99\n",
      "                 Class     Images  Instances      Box(P          R      mAP50  mAP50-95): 100%|██████████| 2/2 [00:05<0"
     ]
    },
    {
     "name": "stdout",
     "output_type": "stream",
     "text": [
      "                   all         44         88   0.000985      0.148   0.000587   0.000202\n"
     ]
    },
    {
     "name": "stderr",
     "output_type": "stream",
     "text": [
      "\n"
     ]
    },
    {
     "name": "stdout",
     "output_type": "stream",
     "text": [
      "\n",
      "      Epoch    GPU_mem   box_loss   cls_loss   dfl_loss  Instances       Size\n"
     ]
    },
    {
     "name": "stderr",
     "output_type": "stream",
     "text": [
      "      5/100         0G      3.057      3.105        3.8         27        640: 100%|██████████| 9/9 [00:44<00:00,  4.92\n",
      "                 Class     Images  Instances      Box(P          R      mAP50  mAP50-95): 100%|██████████| 2/2 [00:05<0"
     ]
    },
    {
     "name": "stdout",
     "output_type": "stream",
     "text": [
      "                   all         44         88   0.000985      0.148   0.000593   0.000198\n"
     ]
    },
    {
     "name": "stderr",
     "output_type": "stream",
     "text": [
      "\n"
     ]
    },
    {
     "name": "stdout",
     "output_type": "stream",
     "text": [
      "\n",
      "      Epoch    GPU_mem   box_loss   cls_loss   dfl_loss  Instances       Size\n"
     ]
    },
    {
     "name": "stderr",
     "output_type": "stream",
     "text": [
      "      6/100         0G      3.055      2.794      3.537         38        640: 100%|██████████| 9/9 [00:43<00:00,  4.86\n",
      "                 Class     Images  Instances      Box(P          R      mAP50  mAP50-95): 100%|██████████| 2/2 [00:05<0"
     ]
    },
    {
     "name": "stdout",
     "output_type": "stream",
     "text": [
      "                   all         44         88   0.000985      0.148   0.000584   0.000188\n"
     ]
    },
    {
     "name": "stderr",
     "output_type": "stream",
     "text": [
      "\n"
     ]
    },
    {
     "name": "stdout",
     "output_type": "stream",
     "text": [
      "\n",
      "      Epoch    GPU_mem   box_loss   cls_loss   dfl_loss  Instances       Size\n"
     ]
    },
    {
     "name": "stderr",
     "output_type": "stream",
     "text": [
      "      7/100         0G      2.924      2.857      3.442         29        640: 100%|██████████| 9/9 [00:44<00:00,  4.97\n",
      "                 Class     Images  Instances      Box(P          R      mAP50  mAP50-95): 100%|██████████| 2/2 [00:05<0"
     ]
    },
    {
     "name": "stdout",
     "output_type": "stream",
     "text": [
      "                   all         44         88   0.000152     0.0227   8.44e-05   1.31e-05\n"
     ]
    },
    {
     "name": "stderr",
     "output_type": "stream",
     "text": [
      "\n"
     ]
    },
    {
     "name": "stdout",
     "output_type": "stream",
     "text": [
      "\n",
      "      Epoch    GPU_mem   box_loss   cls_loss   dfl_loss  Instances       Size\n"
     ]
    },
    {
     "name": "stderr",
     "output_type": "stream",
     "text": [
      "      8/100         0G       2.81      2.721       3.27         36        640: 100%|██████████| 9/9 [00:45<00:00,  5.11\n",
      "                 Class     Images  Instances      Box(P          R      mAP50  mAP50-95): 100%|██████████| 2/2 [00:05<0"
     ]
    },
    {
     "name": "stdout",
     "output_type": "stream",
     "text": [
      "                   all         44         88   0.000213     0.0114   0.000114   2.29e-05\n"
     ]
    },
    {
     "name": "stderr",
     "output_type": "stream",
     "text": [
      "\n"
     ]
    },
    {
     "name": "stdout",
     "output_type": "stream",
     "text": [
      "\n",
      "      Epoch    GPU_mem   box_loss   cls_loss   dfl_loss  Instances       Size\n"
     ]
    },
    {
     "name": "stderr",
     "output_type": "stream",
     "text": [
      "      9/100         0G      2.903      2.471      3.202         39        640: 100%|██████████| 9/9 [00:46<00:00,  5.17\n",
      "                 Class     Images  Instances      Box(P          R      mAP50  mAP50-95): 100%|██████████| 2/2 [00:05<0"
     ]
    },
    {
     "name": "stdout",
     "output_type": "stream",
     "text": [
      "                   all         44         88   0.000213     0.0114   0.000114   2.29e-05\n"
     ]
    },
    {
     "name": "stderr",
     "output_type": "stream",
     "text": [
      "\n"
     ]
    },
    {
     "name": "stdout",
     "output_type": "stream",
     "text": [
      "\n",
      "      Epoch    GPU_mem   box_loss   cls_loss   dfl_loss  Instances       Size\n"
     ]
    },
    {
     "name": "stderr",
     "output_type": "stream",
     "text": [
      "     10/100         0G      2.764      2.374       3.05         33        640: 100%|██████████| 9/9 [00:42<00:00,  4.68\n",
      "                 Class     Images  Instances      Box(P          R      mAP50  mAP50-95): 100%|██████████| 2/2 [00:05<0"
     ]
    },
    {
     "name": "stdout",
     "output_type": "stream",
     "text": [
      "                   all         44         88   0.000213     0.0114   0.000114   2.29e-05\n"
     ]
    },
    {
     "name": "stderr",
     "output_type": "stream",
     "text": [
      "\n"
     ]
    },
    {
     "name": "stdout",
     "output_type": "stream",
     "text": [
      "\n",
      "      Epoch    GPU_mem   box_loss   cls_loss   dfl_loss  Instances       Size\n"
     ]
    },
    {
     "name": "stderr",
     "output_type": "stream",
     "text": [
      "     11/100         0G       2.77      2.504      3.102         39        640: 100%|██████████| 9/9 [00:42<00:00,  4.74\n",
      "                 Class     Images  Instances      Box(P          R      mAP50  mAP50-95): 100%|██████████| 2/2 [00:05<0"
     ]
    },
    {
     "name": "stdout",
     "output_type": "stream",
     "text": [
      "                   all         44         88   0.000232     0.0114   0.000117    8.2e-05\n"
     ]
    },
    {
     "name": "stderr",
     "output_type": "stream",
     "text": [
      "\n"
     ]
    },
    {
     "name": "stdout",
     "output_type": "stream",
     "text": [
      "\n",
      "      Epoch    GPU_mem   box_loss   cls_loss   dfl_loss  Instances       Size\n"
     ]
    },
    {
     "name": "stderr",
     "output_type": "stream",
     "text": [
      "     12/100         0G      2.606      2.379      2.957         46        640: 100%|██████████| 9/9 [00:42<00:00,  4.75\n",
      "                 Class     Images  Instances      Box(P          R      mAP50  mAP50-95): 100%|██████████| 2/2 [00:05<0"
     ]
    },
    {
     "name": "stdout",
     "output_type": "stream",
     "text": [
      "                   all         44         88    0.00346      0.182    0.00204   0.000609\n"
     ]
    },
    {
     "name": "stderr",
     "output_type": "stream",
     "text": [
      "\n"
     ]
    },
    {
     "name": "stdout",
     "output_type": "stream",
     "text": [
      "\n",
      "      Epoch    GPU_mem   box_loss   cls_loss   dfl_loss  Instances       Size\n"
     ]
    },
    {
     "name": "stderr",
     "output_type": "stream",
     "text": [
      "     13/100         0G      2.788      2.372      3.087         40        640: 100%|██████████| 9/9 [00:42<00:00,  4.70\n",
      "                 Class     Images  Instances      Box(P          R      mAP50  mAP50-95): 100%|██████████| 2/2 [00:05<0"
     ]
    },
    {
     "name": "stdout",
     "output_type": "stream",
     "text": [
      "                   all         44         88     0.0132      0.705      0.154     0.0377\n"
     ]
    },
    {
     "name": "stderr",
     "output_type": "stream",
     "text": [
      "\n"
     ]
    },
    {
     "name": "stdout",
     "output_type": "stream",
     "text": [
      "\n",
      "      Epoch    GPU_mem   box_loss   cls_loss   dfl_loss  Instances       Size\n"
     ]
    },
    {
     "name": "stderr",
     "output_type": "stream",
     "text": [
      "     14/100         0G       2.65      2.181      2.966         46        640: 100%|██████████| 9/9 [00:42<00:00,  4.76\n",
      "                 Class     Images  Instances      Box(P          R      mAP50  mAP50-95): 100%|██████████| 2/2 [00:05<0"
     ]
    },
    {
     "name": "stdout",
     "output_type": "stream",
     "text": [
      "                   all         44         88      0.378      0.432      0.335      0.104\n"
     ]
    },
    {
     "name": "stderr",
     "output_type": "stream",
     "text": [
      "\n"
     ]
    },
    {
     "name": "stdout",
     "output_type": "stream",
     "text": [
      "\n",
      "      Epoch    GPU_mem   box_loss   cls_loss   dfl_loss  Instances       Size\n"
     ]
    },
    {
     "name": "stderr",
     "output_type": "stream",
     "text": [
      "     15/100         0G      2.708      2.263      2.929         41        640: 100%|██████████| 9/9 [00:43<00:00,  4.80\n",
      "                 Class     Images  Instances      Box(P          R      mAP50  mAP50-95): 100%|██████████| 2/2 [00:05<0"
     ]
    },
    {
     "name": "stdout",
     "output_type": "stream",
     "text": [
      "                   all         44         88       0.55      0.511      0.511      0.168\n"
     ]
    },
    {
     "name": "stderr",
     "output_type": "stream",
     "text": [
      "\n"
     ]
    },
    {
     "name": "stdout",
     "output_type": "stream",
     "text": [
      "\n",
      "      Epoch    GPU_mem   box_loss   cls_loss   dfl_loss  Instances       Size\n"
     ]
    },
    {
     "name": "stderr",
     "output_type": "stream",
     "text": [
      "     16/100         0G      2.733      2.275      2.924         43        640: 100%|██████████| 9/9 [00:44<00:00,  4.93\n",
      "                 Class     Images  Instances      Box(P          R      mAP50  mAP50-95): 100%|██████████| 2/2 [00:05<0"
     ]
    },
    {
     "name": "stdout",
     "output_type": "stream",
     "text": [
      "                   all         44         88      0.507      0.568      0.574      0.207\n"
     ]
    },
    {
     "name": "stderr",
     "output_type": "stream",
     "text": [
      "\n"
     ]
    },
    {
     "name": "stdout",
     "output_type": "stream",
     "text": [
      "\n",
      "      Epoch    GPU_mem   box_loss   cls_loss   dfl_loss  Instances       Size\n"
     ]
    },
    {
     "name": "stderr",
     "output_type": "stream",
     "text": [
      "     17/100         0G      2.597      2.111      2.859         34        640: 100%|██████████| 9/9 [00:44<00:00,  4.97\n",
      "                 Class     Images  Instances      Box(P          R      mAP50  mAP50-95): 100%|██████████| 2/2 [00:05<0"
     ]
    },
    {
     "name": "stdout",
     "output_type": "stream",
     "text": [
      "                   all         44         88      0.408      0.614      0.423      0.182\n"
     ]
    },
    {
     "name": "stderr",
     "output_type": "stream",
     "text": [
      "\n"
     ]
    },
    {
     "name": "stdout",
     "output_type": "stream",
     "text": [
      "\n",
      "      Epoch    GPU_mem   box_loss   cls_loss   dfl_loss  Instances       Size\n"
     ]
    },
    {
     "name": "stderr",
     "output_type": "stream",
     "text": [
      "     18/100         0G      2.489      2.097      2.771         44        640: 100%|██████████| 9/9 [00:42<00:00,  4.74\n",
      "                 Class     Images  Instances      Box(P          R      mAP50  mAP50-95): 100%|██████████| 2/2 [00:05<0"
     ]
    },
    {
     "name": "stdout",
     "output_type": "stream",
     "text": [
      "                   all         44         88      0.518      0.534      0.499      0.192\n"
     ]
    },
    {
     "name": "stderr",
     "output_type": "stream",
     "text": [
      "\n"
     ]
    },
    {
     "name": "stdout",
     "output_type": "stream",
     "text": [
      "\n",
      "      Epoch    GPU_mem   box_loss   cls_loss   dfl_loss  Instances       Size\n"
     ]
    },
    {
     "name": "stderr",
     "output_type": "stream",
     "text": [
      "     19/100         0G      2.612      2.132      2.851         45        640: 100%|██████████| 9/9 [00:42<00:00,  4.71\n",
      "                 Class     Images  Instances      Box(P          R      mAP50  mAP50-95): 100%|██████████| 2/2 [00:05<0"
     ]
    },
    {
     "name": "stdout",
     "output_type": "stream",
     "text": [
      "                   all         44         88      0.549      0.567      0.549        0.2\n"
     ]
    },
    {
     "name": "stderr",
     "output_type": "stream",
     "text": [
      "\n"
     ]
    },
    {
     "name": "stdout",
     "output_type": "stream",
     "text": [
      "\n",
      "      Epoch    GPU_mem   box_loss   cls_loss   dfl_loss  Instances       Size\n"
     ]
    },
    {
     "name": "stderr",
     "output_type": "stream",
     "text": [
      "     20/100         0G      2.539      2.034      2.755         46        640: 100%|██████████| 9/9 [00:42<00:00,  4.75\n",
      "                 Class     Images  Instances      Box(P          R      mAP50  mAP50-95): 100%|██████████| 2/2 [00:05<0"
     ]
    },
    {
     "name": "stdout",
     "output_type": "stream",
     "text": [
      "                   all         44         88       0.48      0.602      0.491      0.164\n"
     ]
    },
    {
     "name": "stderr",
     "output_type": "stream",
     "text": [
      "\n"
     ]
    },
    {
     "name": "stdout",
     "output_type": "stream",
     "text": [
      "\n",
      "      Epoch    GPU_mem   box_loss   cls_loss   dfl_loss  Instances       Size\n"
     ]
    },
    {
     "name": "stderr",
     "output_type": "stream",
     "text": [
      "     21/100         0G      2.459      1.958      2.743         43        640: 100%|██████████| 9/9 [00:44<00:00,  4.90\n",
      "                 Class     Images  Instances      Box(P          R      mAP50  mAP50-95): 100%|██████████| 2/2 [00:05<0"
     ]
    },
    {
     "name": "stdout",
     "output_type": "stream",
     "text": [
      "                   all         44         88      0.402      0.512      0.412      0.161\n"
     ]
    },
    {
     "name": "stderr",
     "output_type": "stream",
     "text": [
      "\n"
     ]
    },
    {
     "name": "stdout",
     "output_type": "stream",
     "text": [
      "\n",
      "      Epoch    GPU_mem   box_loss   cls_loss   dfl_loss  Instances       Size\n"
     ]
    },
    {
     "name": "stderr",
     "output_type": "stream",
     "text": [
      "     22/100         0G      2.509      1.939      2.764         44        640: 100%|██████████| 9/9 [00:47<00:00,  5.26\n",
      "                 Class     Images  Instances      Box(P          R      mAP50  mAP50-95): 100%|██████████| 2/2 [00:05<00:00,  2.74s/"
     ]
    },
    {
     "name": "stdout",
     "output_type": "stream",
     "text": [
      "                   all         44         88      0.519      0.613      0.582      0.243\n"
     ]
    },
    {
     "name": "stderr",
     "output_type": "stream",
     "text": [
      "\n"
     ]
    },
    {
     "name": "stdout",
     "output_type": "stream",
     "text": [
      "\n",
      "      Epoch    GPU_mem   box_loss   cls_loss   dfl_loss  Instances       Size\n"
     ]
    },
    {
     "name": "stderr",
     "output_type": "stream",
     "text": [
      "     23/100         0G      2.421      1.844      2.637         36        640: 100%|██████████| 9/9 [00:48<00:00,  5.38s/it]\n",
      "                 Class     Images  Instances      Box(P          R      mAP50  mAP50-95): 100%|██████████| 2/2 [00:05<00:00,  2.74s/"
     ]
    },
    {
     "name": "stdout",
     "output_type": "stream",
     "text": [
      "                   all         44         88      0.463       0.67      0.603      0.224\n"
     ]
    },
    {
     "name": "stderr",
     "output_type": "stream",
     "text": [
      "\n"
     ]
    },
    {
     "name": "stdout",
     "output_type": "stream",
     "text": [
      "\n",
      "      Epoch    GPU_mem   box_loss   cls_loss   dfl_loss  Instances       Size\n"
     ]
    },
    {
     "name": "stderr",
     "output_type": "stream",
     "text": [
      "     24/100         0G      2.367      1.801       2.65         40        640: 100%|██████████| 9/9 [00:42<00:00,  4.68s/it]\n",
      "                 Class     Images  Instances      Box(P          R      mAP50  mAP50-95): 100%|██████████| 2/2 [00:04<00:00,  2.49s/"
     ]
    },
    {
     "name": "stdout",
     "output_type": "stream",
     "text": [
      "                   all         44         88      0.606      0.718      0.691      0.222\n"
     ]
    },
    {
     "name": "stderr",
     "output_type": "stream",
     "text": [
      "\n"
     ]
    },
    {
     "name": "stdout",
     "output_type": "stream",
     "text": [
      "\n",
      "      Epoch    GPU_mem   box_loss   cls_loss   dfl_loss  Instances       Size\n"
     ]
    },
    {
     "name": "stderr",
     "output_type": "stream",
     "text": [
      "     25/100         0G       2.44      1.801      2.734         37        640: 100%|██████████| 9/9 [00:44<00:00,  4.93s/it]\n",
      "                 Class     Images  Instances      Box(P          R      mAP50  mAP50-95): 100%|██████████| 2/2 [00:05<00:00,  2.69s/"
     ]
    },
    {
     "name": "stdout",
     "output_type": "stream",
     "text": [
      "                   all         44         88      0.343      0.682      0.305      0.126\n"
     ]
    },
    {
     "name": "stderr",
     "output_type": "stream",
     "text": [
      "\n"
     ]
    },
    {
     "name": "stdout",
     "output_type": "stream",
     "text": [
      "\n",
      "      Epoch    GPU_mem   box_loss   cls_loss   dfl_loss  Instances       Size\n"
     ]
    },
    {
     "name": "stderr",
     "output_type": "stream",
     "text": [
      "     26/100         0G      2.384      1.811      2.698         36        640: 100%|██████████| 9/9 [00:45<00:00,  5.06s/it]\n",
      "                 Class     Images  Instances      Box(P          R      mAP50  mAP50-95): 100%|██████████| 2/2 [00:05<00:00,  2.69s/"
     ]
    },
    {
     "name": "stdout",
     "output_type": "stream",
     "text": [
      "                   all         44         88      0.245      0.659      0.224     0.0957\n"
     ]
    },
    {
     "name": "stderr",
     "output_type": "stream",
     "text": [
      "\n"
     ]
    },
    {
     "name": "stdout",
     "output_type": "stream",
     "text": [
      "\n",
      "      Epoch    GPU_mem   box_loss   cls_loss   dfl_loss  Instances       Size\n"
     ]
    },
    {
     "name": "stderr",
     "output_type": "stream",
     "text": [
      "     27/100         0G      2.437      1.805      2.739         55        640: 100%|██████████| 9/9 [00:46<00:00,  5.21s/it]\n",
      "                 Class     Images  Instances      Box(P          R      mAP50  mAP50-95): 100%|██████████| 2/2 [00:06<00:00,  3.47s/"
     ]
    },
    {
     "name": "stdout",
     "output_type": "stream",
     "text": [
      "                   all         44         88      0.359      0.614      0.409       0.17\n"
     ]
    },
    {
     "name": "stderr",
     "output_type": "stream",
     "text": [
      "\n"
     ]
    },
    {
     "name": "stdout",
     "output_type": "stream",
     "text": [
      "\n",
      "      Epoch    GPU_mem   box_loss   cls_loss   dfl_loss  Instances       Size\n"
     ]
    },
    {
     "name": "stderr",
     "output_type": "stream",
     "text": [
      "     28/100         0G      2.391      1.799      2.711         29        640: 100%|██████████| 9/9 [00:47<00:00,  5.26s/it]\n",
      "                 Class     Images  Instances      Box(P          R      mAP50  mAP50-95): 100%|██████████| 2/2 [00:05<00:00,  2.67s/"
     ]
    },
    {
     "name": "stdout",
     "output_type": "stream",
     "text": [
      "                   all         44         88      0.449      0.727      0.522      0.227\n"
     ]
    },
    {
     "name": "stderr",
     "output_type": "stream",
     "text": [
      "\n"
     ]
    },
    {
     "name": "stdout",
     "output_type": "stream",
     "text": [
      "\n",
      "      Epoch    GPU_mem   box_loss   cls_loss   dfl_loss  Instances       Size\n"
     ]
    },
    {
     "name": "stderr",
     "output_type": "stream",
     "text": [
      "     29/100         0G      2.279      1.719      2.597         27        640: 100%|██████████| 9/9 [00:46<00:00,  5.11s/it]\n",
      "                 Class     Images  Instances      Box(P          R      mAP50  mAP50-95): 100%|██████████| 2/2 [00:05<00:00,  2.87s/"
     ]
    },
    {
     "name": "stdout",
     "output_type": "stream",
     "text": [
      "                   all         44         88      0.513      0.755      0.627      0.283\n"
     ]
    },
    {
     "name": "stderr",
     "output_type": "stream",
     "text": [
      "\n"
     ]
    },
    {
     "name": "stdout",
     "output_type": "stream",
     "text": [
      "\n",
      "      Epoch    GPU_mem   box_loss   cls_loss   dfl_loss  Instances       Size\n"
     ]
    },
    {
     "name": "stderr",
     "output_type": "stream",
     "text": [
      "     30/100         0G      2.238       1.67      2.554         36        640: 100%|██████████| 9/9 [00:46<00:00,  5.18s/it]\n",
      "                 Class     Images  Instances      Box(P          R      mAP50  mAP50-95): 100%|██████████| 2/2 [00:05<00:00,  2.67s/"
     ]
    },
    {
     "name": "stdout",
     "output_type": "stream",
     "text": [
      "                   all         44         88      0.491      0.778      0.562       0.24\n"
     ]
    },
    {
     "name": "stderr",
     "output_type": "stream",
     "text": [
      "\n"
     ]
    },
    {
     "name": "stdout",
     "output_type": "stream",
     "text": [
      "\n",
      "      Epoch    GPU_mem   box_loss   cls_loss   dfl_loss  Instances       Size\n"
     ]
    },
    {
     "name": "stderr",
     "output_type": "stream",
     "text": [
      "     31/100         0G      2.224      1.692      2.528         61        640: 100%|██████████| 9/9 [00:45<00:00,  5.09s/it]\n",
      "                 Class     Images  Instances      Box(P          R      mAP50  mAP50-95): 100%|██████████| 2/2 [00:05<00:00,  2.69s/"
     ]
    },
    {
     "name": "stdout",
     "output_type": "stream",
     "text": [
      "                   all         44         88      0.447      0.773      0.537      0.232\n"
     ]
    },
    {
     "name": "stderr",
     "output_type": "stream",
     "text": [
      "\n"
     ]
    },
    {
     "name": "stdout",
     "output_type": "stream",
     "text": [
      "\n",
      "      Epoch    GPU_mem   box_loss   cls_loss   dfl_loss  Instances       Size\n"
     ]
    },
    {
     "name": "stderr",
     "output_type": "stream",
     "text": [
      "     32/100         0G      2.285       1.81      2.642         31        640: 100%|██████████| 9/9 [00:45<00:00,  5.10s/it]\n",
      "                 Class     Images  Instances      Box(P          R      mAP50  mAP50-95): 100%|██████████| 2/2 [00:05<00:00,  2.61s/"
     ]
    },
    {
     "name": "stdout",
     "output_type": "stream",
     "text": [
      "                   all         44         88      0.385      0.818      0.416      0.202\n"
     ]
    },
    {
     "name": "stderr",
     "output_type": "stream",
     "text": [
      "\n"
     ]
    },
    {
     "name": "stdout",
     "output_type": "stream",
     "text": [
      "\n",
      "      Epoch    GPU_mem   box_loss   cls_loss   dfl_loss  Instances       Size\n"
     ]
    },
    {
     "name": "stderr",
     "output_type": "stream",
     "text": [
      "     33/100         0G      2.307      1.802      2.699         25        640: 100%|██████████| 9/9 [00:40<00:00,  4.55s/it]\n",
      "                 Class     Images  Instances      Box(P          R      mAP50  mAP50-95): 100%|██████████| 2/2 [00:05<00:00,  2.60s/"
     ]
    },
    {
     "name": "stdout",
     "output_type": "stream",
     "text": [
      "                   all         44         88      0.557      0.727      0.604      0.265\n"
     ]
    },
    {
     "name": "stderr",
     "output_type": "stream",
     "text": [
      "\n"
     ]
    },
    {
     "name": "stdout",
     "output_type": "stream",
     "text": [
      "\n",
      "      Epoch    GPU_mem   box_loss   cls_loss   dfl_loss  Instances       Size\n"
     ]
    },
    {
     "name": "stderr",
     "output_type": "stream",
     "text": [
      "     34/100         0G      2.332      1.687      2.655         46        640: 100%|██████████| 9/9 [00:41<00:00,  4.58s/it]\n",
      "                 Class     Images  Instances      Box(P          R      mAP50  mAP50-95): 100%|██████████| 2/2 [00:05<00:00,  2.61s/"
     ]
    },
    {
     "name": "stdout",
     "output_type": "stream",
     "text": [
      "                   all         44         88      0.546      0.693      0.619      0.272\n"
     ]
    },
    {
     "name": "stderr",
     "output_type": "stream",
     "text": [
      "\n"
     ]
    },
    {
     "name": "stdout",
     "output_type": "stream",
     "text": [
      "\n",
      "      Epoch    GPU_mem   box_loss   cls_loss   dfl_loss  Instances       Size\n"
     ]
    },
    {
     "name": "stderr",
     "output_type": "stream",
     "text": [
      "     35/100         0G      2.316      1.776      2.636         43        640: 100%|██████████| 9/9 [00:42<00:00,  4.70s/it]\n",
      "                 Class     Images  Instances      Box(P          R      mAP50  mAP50-95): 100%|██████████| 2/2 [00:05<00:00,  2.71s/"
     ]
    },
    {
     "name": "stdout",
     "output_type": "stream",
     "text": [
      "                   all         44         88      0.486      0.716      0.583      0.214\n"
     ]
    },
    {
     "name": "stderr",
     "output_type": "stream",
     "text": [
      "\n"
     ]
    },
    {
     "name": "stdout",
     "output_type": "stream",
     "text": [
      "\n",
      "      Epoch    GPU_mem   box_loss   cls_loss   dfl_loss  Instances       Size\n"
     ]
    },
    {
     "name": "stderr",
     "output_type": "stream",
     "text": [
      "     36/100         0G      2.306      1.822      2.635         29        640: 100%|██████████| 9/9 [00:42<00:00,  4.74s/it]\n",
      "                 Class     Images  Instances      Box(P          R      mAP50  mAP50-95): 100%|██████████| 2/2 [00:05<00:00,  2.56s/"
     ]
    },
    {
     "name": "stdout",
     "output_type": "stream",
     "text": [
      "                   all         44         88      0.559      0.727      0.675      0.268\n"
     ]
    },
    {
     "name": "stderr",
     "output_type": "stream",
     "text": [
      "\n"
     ]
    },
    {
     "name": "stdout",
     "output_type": "stream",
     "text": [
      "\n",
      "      Epoch    GPU_mem   box_loss   cls_loss   dfl_loss  Instances       Size\n"
     ]
    },
    {
     "name": "stderr",
     "output_type": "stream",
     "text": [
      "     37/100         0G      2.202      1.675      2.561         55        640: 100%|██████████| 9/9 [00:40<00:00,  4.45s/it]\n",
      "                 Class     Images  Instances      Box(P          R      mAP50  mAP50-95): 100%|██████████| 2/2 [00:05<00:00,  2.53s/"
     ]
    },
    {
     "name": "stdout",
     "output_type": "stream",
     "text": [
      "                   all         44         88      0.416      0.625      0.513      0.235\n"
     ]
    },
    {
     "name": "stderr",
     "output_type": "stream",
     "text": [
      "\n"
     ]
    },
    {
     "name": "stdout",
     "output_type": "stream",
     "text": [
      "\n",
      "      Epoch    GPU_mem   box_loss   cls_loss   dfl_loss  Instances       Size\n"
     ]
    },
    {
     "name": "stderr",
     "output_type": "stream",
     "text": [
      "     38/100         0G      2.239      1.664       2.58         43        640: 100%|██████████| 9/9 [00:39<00:00,  4.37s/it]\n",
      "                 Class     Images  Instances      Box(P          R      mAP50  mAP50-95): 100%|██████████| 2/2 [00:05<00:00,  2.61s/"
     ]
    },
    {
     "name": "stdout",
     "output_type": "stream",
     "text": [
      "                   all         44         88      0.426      0.783      0.502      0.213\n"
     ]
    },
    {
     "name": "stderr",
     "output_type": "stream",
     "text": [
      "\n"
     ]
    },
    {
     "name": "stdout",
     "output_type": "stream",
     "text": [
      "\n",
      "      Epoch    GPU_mem   box_loss   cls_loss   dfl_loss  Instances       Size\n"
     ]
    },
    {
     "name": "stderr",
     "output_type": "stream",
     "text": [
      "     39/100         0G      2.159       1.71      2.601         54        640: 100%|██████████| 9/9 [00:41<00:00,  4.57s/it]\n",
      "                 Class     Images  Instances      Box(P          R      mAP50  mAP50-95): 100%|██████████| 2/2 [00:05<00:00,  2.60s/"
     ]
    },
    {
     "name": "stdout",
     "output_type": "stream",
     "text": [
      "                   all         44         88      0.482      0.783      0.609      0.296\n"
     ]
    },
    {
     "name": "stderr",
     "output_type": "stream",
     "text": [
      "\n"
     ]
    },
    {
     "name": "stdout",
     "output_type": "stream",
     "text": [
      "\n",
      "      Epoch    GPU_mem   box_loss   cls_loss   dfl_loss  Instances       Size\n"
     ]
    },
    {
     "name": "stderr",
     "output_type": "stream",
     "text": [
      "     40/100         0G      2.057      1.533      2.395         52        640: 100%|██████████| 9/9 [00:41<00:00,  4.57s/it]\n",
      "                 Class     Images  Instances      Box(P          R      mAP50  mAP50-95): 100%|██████████| 2/2 [00:05<00:00,  2.59s/"
     ]
    },
    {
     "name": "stdout",
     "output_type": "stream",
     "text": [
      "                   all         44         88       0.44      0.705      0.516      0.218\n"
     ]
    },
    {
     "name": "stderr",
     "output_type": "stream",
     "text": [
      "\n"
     ]
    },
    {
     "name": "stdout",
     "output_type": "stream",
     "text": [
      "\n",
      "      Epoch    GPU_mem   box_loss   cls_loss   dfl_loss  Instances       Size\n"
     ]
    },
    {
     "name": "stderr",
     "output_type": "stream",
     "text": [
      "     41/100         0G      2.237      1.592      2.578         28        640: 100%|██████████| 9/9 [00:45<00:00,  5.10s/it]\n",
      "                 Class     Images  Instances      Box(P          R      mAP50  mAP50-95): 100%|██████████| 2/2 [00:05<00:00,  2.77s/"
     ]
    },
    {
     "name": "stdout",
     "output_type": "stream",
     "text": [
      "                   all         44         88      0.511       0.75        0.6       0.25\n"
     ]
    },
    {
     "name": "stderr",
     "output_type": "stream",
     "text": [
      "\n"
     ]
    },
    {
     "name": "stdout",
     "output_type": "stream",
     "text": [
      "\n",
      "      Epoch    GPU_mem   box_loss   cls_loss   dfl_loss  Instances       Size\n"
     ]
    },
    {
     "name": "stderr",
     "output_type": "stream",
     "text": [
      "     42/100         0G      2.123      1.534      2.485         26        640: 100%|██████████| 9/9 [00:43<00:00,  4.81s/it]\n",
      "                 Class     Images  Instances      Box(P          R      mAP50  mAP50-95): 100%|██████████| 2/2 [00:05<00:00,  2.62s/"
     ]
    },
    {
     "name": "stdout",
     "output_type": "stream",
     "text": [
      "                   all         44         88       0.51      0.795      0.636       0.24\n"
     ]
    },
    {
     "name": "stderr",
     "output_type": "stream",
     "text": [
      "\n"
     ]
    },
    {
     "name": "stdout",
     "output_type": "stream",
     "text": [
      "\n",
      "      Epoch    GPU_mem   box_loss   cls_loss   dfl_loss  Instances       Size\n"
     ]
    },
    {
     "name": "stderr",
     "output_type": "stream",
     "text": [
      "     43/100         0G      2.162      1.559      2.545         37        640: 100%|██████████| 9/9 [00:42<00:00,  4.69s/it]\n",
      "                 Class     Images  Instances      Box(P          R      mAP50  mAP50-95): 100%|██████████| 2/2 [00:05<00:00,  2.60s/"
     ]
    },
    {
     "name": "stdout",
     "output_type": "stream",
     "text": [
      "                   all         44         88      0.509      0.761      0.635      0.283\n"
     ]
    },
    {
     "name": "stderr",
     "output_type": "stream",
     "text": [
      "\n"
     ]
    },
    {
     "name": "stdout",
     "output_type": "stream",
     "text": [
      "\n",
      "      Epoch    GPU_mem   box_loss   cls_loss   dfl_loss  Instances       Size\n"
     ]
    },
    {
     "name": "stderr",
     "output_type": "stream",
     "text": [
      "     44/100         0G      2.139      1.546       2.46         38        640: 100%|██████████| 9/9 [00:41<00:00,  4.63s/it]\n",
      "                 Class     Images  Instances      Box(P          R      mAP50  mAP50-95): 100%|██████████| 2/2 [00:05<00:00,  2.60s/"
     ]
    },
    {
     "name": "stdout",
     "output_type": "stream",
     "text": [
      "                   all         44         88      0.544       0.75      0.686      0.307\n"
     ]
    },
    {
     "name": "stderr",
     "output_type": "stream",
     "text": [
      "\n"
     ]
    },
    {
     "name": "stdout",
     "output_type": "stream",
     "text": [
      "\n",
      "      Epoch    GPU_mem   box_loss   cls_loss   dfl_loss  Instances       Size\n"
     ]
    },
    {
     "name": "stderr",
     "output_type": "stream",
     "text": [
      "     45/100         0G       2.07      1.519      2.417         24        640: 100%|██████████| 9/9 [00:41<00:00,  4.59s/it]\n",
      "                 Class     Images  Instances      Box(P          R      mAP50  mAP50-95): 100%|██████████| 2/2 [00:05<00:00,  2.62s/"
     ]
    },
    {
     "name": "stdout",
     "output_type": "stream",
     "text": [
      "                   all         44         88      0.496      0.715       0.52      0.246\n"
     ]
    },
    {
     "name": "stderr",
     "output_type": "stream",
     "text": [
      "\n"
     ]
    },
    {
     "name": "stdout",
     "output_type": "stream",
     "text": [
      "\n",
      "      Epoch    GPU_mem   box_loss   cls_loss   dfl_loss  Instances       Size\n"
     ]
    },
    {
     "name": "stderr",
     "output_type": "stream",
     "text": [
      "     46/100         0G       2.07      1.534      2.457         37        640: 100%|██████████| 9/9 [00:41<00:00,  4.58s/it]\n",
      "                 Class     Images  Instances      Box(P          R      mAP50  mAP50-95): 100%|██████████| 2/2 [00:05<00:00,  2.66s/"
     ]
    },
    {
     "name": "stdout",
     "output_type": "stream",
     "text": [
      "                   all         44         88      0.484      0.841      0.684      0.332\n"
     ]
    },
    {
     "name": "stderr",
     "output_type": "stream",
     "text": [
      "\n"
     ]
    },
    {
     "name": "stdout",
     "output_type": "stream",
     "text": [
      "\n",
      "      Epoch    GPU_mem   box_loss   cls_loss   dfl_loss  Instances       Size\n"
     ]
    },
    {
     "name": "stderr",
     "output_type": "stream",
     "text": [
      "     47/100         0G      2.097      1.504       2.46         40        640: 100%|██████████| 9/9 [00:41<00:00,  4.59s/it]\n",
      "                 Class     Images  Instances      Box(P          R      mAP50  mAP50-95): 100%|██████████| 2/2 [00:05<00:00,  2.74s/"
     ]
    },
    {
     "name": "stdout",
     "output_type": "stream",
     "text": [
      "                   all         44         88      0.529      0.705      0.636      0.311\n"
     ]
    },
    {
     "name": "stderr",
     "output_type": "stream",
     "text": [
      "\n"
     ]
    },
    {
     "name": "stdout",
     "output_type": "stream",
     "text": [
      "\n",
      "      Epoch    GPU_mem   box_loss   cls_loss   dfl_loss  Instances       Size\n"
     ]
    },
    {
     "name": "stderr",
     "output_type": "stream",
     "text": [
      "     48/100         0G      2.119      1.554      2.523         32        640: 100%|██████████| 9/9 [00:41<00:00,  4.65s/it]\n",
      "                 Class     Images  Instances      Box(P          R      mAP50  mAP50-95): 100%|██████████| 2/2 [00:05<00:00,  2.65s/"
     ]
    },
    {
     "name": "stdout",
     "output_type": "stream",
     "text": [
      "                   all         44         88       0.45      0.625      0.555      0.237\n"
     ]
    },
    {
     "name": "stderr",
     "output_type": "stream",
     "text": [
      "\n"
     ]
    },
    {
     "name": "stdout",
     "output_type": "stream",
     "text": [
      "\n",
      "      Epoch    GPU_mem   box_loss   cls_loss   dfl_loss  Instances       Size\n"
     ]
    },
    {
     "name": "stderr",
     "output_type": "stream",
     "text": [
      "     49/100         0G      2.084       1.52      2.439         42        640: 100%|██████████| 9/9 [00:42<00:00,  4.77s/it]\n",
      "                 Class     Images  Instances      Box(P          R      mAP50  mAP50-95): 100%|██████████| 2/2 [00:05<00:00,  2.63s/"
     ]
    },
    {
     "name": "stdout",
     "output_type": "stream",
     "text": [
      "                   all         44         88      0.369      0.807       0.52      0.247\n"
     ]
    },
    {
     "name": "stderr",
     "output_type": "stream",
     "text": [
      "\n"
     ]
    },
    {
     "name": "stdout",
     "output_type": "stream",
     "text": [
      "\n",
      "      Epoch    GPU_mem   box_loss   cls_loss   dfl_loss  Instances       Size\n"
     ]
    },
    {
     "name": "stderr",
     "output_type": "stream",
     "text": [
      "     50/100         0G        2.1      1.602      2.507         30        640: 100%|██████████| 9/9 [00:41<00:00,  4.62s/it]\n",
      "                 Class     Images  Instances      Box(P          R      mAP50  mAP50-95): 100%|██████████| 2/2 [00:05<00:00,  2.65s/"
     ]
    },
    {
     "name": "stdout",
     "output_type": "stream",
     "text": [
      "                   all         44         88      0.565      0.705      0.697      0.351\n"
     ]
    },
    {
     "name": "stderr",
     "output_type": "stream",
     "text": [
      "\n"
     ]
    },
    {
     "name": "stdout",
     "output_type": "stream",
     "text": [
      "\n",
      "      Epoch    GPU_mem   box_loss   cls_loss   dfl_loss  Instances       Size\n"
     ]
    },
    {
     "name": "stderr",
     "output_type": "stream",
     "text": [
      "     51/100         0G      2.108      1.547      2.481         44        640: 100%|██████████| 9/9 [00:41<00:00,  4.62s/it]\n",
      "                 Class     Images  Instances      Box(P          R      mAP50  mAP50-95): 100%|██████████| 2/2 [00:05<00:00,  2.61s/"
     ]
    },
    {
     "name": "stdout",
     "output_type": "stream",
     "text": [
      "                   all         44         88       0.51      0.716       0.61      0.322\n"
     ]
    },
    {
     "name": "stderr",
     "output_type": "stream",
     "text": [
      "\n"
     ]
    },
    {
     "name": "stdout",
     "output_type": "stream",
     "text": [
      "\n",
      "      Epoch    GPU_mem   box_loss   cls_loss   dfl_loss  Instances       Size\n"
     ]
    },
    {
     "name": "stderr",
     "output_type": "stream",
     "text": [
      "     52/100         0G      1.998      1.482      2.402         26        640: 100%|██████████| 9/9 [00:41<00:00,  4.62s/it]\n",
      "                 Class     Images  Instances      Box(P          R      mAP50  mAP50-95): 100%|██████████| 2/2 [00:05<00:00,  2.61s/"
     ]
    },
    {
     "name": "stdout",
     "output_type": "stream",
     "text": [
      "                   all         44         88      0.618      0.795      0.709      0.337\n"
     ]
    },
    {
     "name": "stderr",
     "output_type": "stream",
     "text": [
      "\n"
     ]
    },
    {
     "name": "stdout",
     "output_type": "stream",
     "text": [
      "\n",
      "      Epoch    GPU_mem   box_loss   cls_loss   dfl_loss  Instances       Size\n"
     ]
    },
    {
     "name": "stderr",
     "output_type": "stream",
     "text": [
      "     53/100         0G      2.016      1.441      2.376         45        640: 100%|██████████| 9/9 [00:41<00:00,  4.63s/it]\n",
      "                 Class     Images  Instances      Box(P          R      mAP50  mAP50-95): 100%|██████████| 2/2 [00:05<00:00,  2.65s/"
     ]
    },
    {
     "name": "stdout",
     "output_type": "stream",
     "text": [
      "                   all         44         88      0.659      0.723       0.75      0.336\n"
     ]
    },
    {
     "name": "stderr",
     "output_type": "stream",
     "text": [
      "\n"
     ]
    },
    {
     "name": "stdout",
     "output_type": "stream",
     "text": [
      "\n",
      "      Epoch    GPU_mem   box_loss   cls_loss   dfl_loss  Instances       Size\n"
     ]
    },
    {
     "name": "stderr",
     "output_type": "stream",
     "text": [
      "     54/100         0G      2.009      1.408      2.374         22        640: 100%|██████████| 9/9 [00:41<00:00,  4.56s/it]\n",
      "                 Class     Images  Instances      Box(P          R      mAP50  mAP50-95): 100%|██████████| 2/2 [00:05<00:00,  2.64s/"
     ]
    },
    {
     "name": "stdout",
     "output_type": "stream",
     "text": [
      "                   all         44         88      0.624      0.784      0.739      0.316\n"
     ]
    },
    {
     "name": "stderr",
     "output_type": "stream",
     "text": [
      "\n"
     ]
    },
    {
     "name": "stdout",
     "output_type": "stream",
     "text": [
      "\n",
      "      Epoch    GPU_mem   box_loss   cls_loss   dfl_loss  Instances       Size\n"
     ]
    },
    {
     "name": "stderr",
     "output_type": "stream",
     "text": [
      "     55/100         0G      2.072      1.481        2.4         44        640: 100%|██████████| 9/9 [00:41<00:00,  4.64s/it]\n",
      "                 Class     Images  Instances      Box(P          R      mAP50  mAP50-95): 100%|██████████| 2/2 [00:05<00:00,  2.59s/"
     ]
    },
    {
     "name": "stdout",
     "output_type": "stream",
     "text": [
      "                   all         44         88      0.601      0.702      0.719      0.346\n"
     ]
    },
    {
     "name": "stderr",
     "output_type": "stream",
     "text": [
      "\n"
     ]
    },
    {
     "name": "stdout",
     "output_type": "stream",
     "text": [
      "\n",
      "      Epoch    GPU_mem   box_loss   cls_loss   dfl_loss  Instances       Size\n"
     ]
    },
    {
     "name": "stderr",
     "output_type": "stream",
     "text": [
      "     56/100         0G      1.959      1.474      2.313         43        640: 100%|██████████| 9/9 [00:41<00:00,  4.66s/it]\n",
      "                 Class     Images  Instances      Box(P          R      mAP50  mAP50-95): 100%|██████████| 2/2 [00:05<00:00,  2.57s/"
     ]
    },
    {
     "name": "stdout",
     "output_type": "stream",
     "text": [
      "                   all         44         88      0.564      0.739      0.662       0.34\n"
     ]
    },
    {
     "name": "stderr",
     "output_type": "stream",
     "text": [
      "\n"
     ]
    },
    {
     "name": "stdout",
     "output_type": "stream",
     "text": [
      "\n",
      "      Epoch    GPU_mem   box_loss   cls_loss   dfl_loss  Instances       Size\n"
     ]
    },
    {
     "name": "stderr",
     "output_type": "stream",
     "text": [
      "     57/100         0G      1.962      1.465      2.335         47        640: 100%|██████████| 9/9 [00:42<00:00,  4.67s/it]\n",
      "                 Class     Images  Instances      Box(P          R      mAP50  mAP50-95): 100%|██████████| 2/2 [00:05<00:00,  2.63s/"
     ]
    },
    {
     "name": "stdout",
     "output_type": "stream",
     "text": [
      "                   all         44         88      0.594      0.739      0.703      0.349\n"
     ]
    },
    {
     "name": "stderr",
     "output_type": "stream",
     "text": [
      "\n"
     ]
    },
    {
     "name": "stdout",
     "output_type": "stream",
     "text": [
      "\n",
      "      Epoch    GPU_mem   box_loss   cls_loss   dfl_loss  Instances       Size\n"
     ]
    },
    {
     "name": "stderr",
     "output_type": "stream",
     "text": [
      "     58/100         0G      1.994      1.499      2.342         48        640: 100%|██████████| 9/9 [00:41<00:00,  4.66s/it]\n",
      "                 Class     Images  Instances      Box(P          R      mAP50  mAP50-95): 100%|██████████| 2/2 [00:05<00:00,  2.64s/"
     ]
    },
    {
     "name": "stdout",
     "output_type": "stream",
     "text": [
      "                   all         44         88      0.592      0.773      0.683      0.341\n"
     ]
    },
    {
     "name": "stderr",
     "output_type": "stream",
     "text": [
      "\n"
     ]
    },
    {
     "name": "stdout",
     "output_type": "stream",
     "text": [
      "\n",
      "      Epoch    GPU_mem   box_loss   cls_loss   dfl_loss  Instances       Size\n"
     ]
    },
    {
     "name": "stderr",
     "output_type": "stream",
     "text": [
      "     59/100         0G      2.022      1.558      2.448         21        640: 100%|██████████| 9/9 [00:41<00:00,  4.64s/it]\n",
      "                 Class     Images  Instances      Box(P          R      mAP50  mAP50-95): 100%|██████████| 2/2 [00:05<00:00,  2.61s/"
     ]
    },
    {
     "name": "stdout",
     "output_type": "stream",
     "text": [
      "                   all         44         88       0.63       0.83      0.804      0.412\n"
     ]
    },
    {
     "name": "stderr",
     "output_type": "stream",
     "text": [
      "\n"
     ]
    },
    {
     "name": "stdout",
     "output_type": "stream",
     "text": [
      "\n",
      "      Epoch    GPU_mem   box_loss   cls_loss   dfl_loss  Instances       Size\n"
     ]
    },
    {
     "name": "stderr",
     "output_type": "stream",
     "text": [
      "     60/100         0G      1.938      1.367      2.256         32        640: 100%|██████████| 9/9 [00:42<00:00,  4.70s/it]\n",
      "                 Class     Images  Instances      Box(P          R      mAP50  mAP50-95): 100%|██████████| 2/2 [00:05<00:00,  2.59s/"
     ]
    },
    {
     "name": "stdout",
     "output_type": "stream",
     "text": [
      "                   all         44         88      0.678      0.773      0.786      0.405\n"
     ]
    },
    {
     "name": "stderr",
     "output_type": "stream",
     "text": [
      "\n"
     ]
    },
    {
     "name": "stdout",
     "output_type": "stream",
     "text": [
      "\n",
      "      Epoch    GPU_mem   box_loss   cls_loss   dfl_loss  Instances       Size\n"
     ]
    },
    {
     "name": "stderr",
     "output_type": "stream",
     "text": [
      "     61/100         0G      1.876      1.381      2.264         52        640: 100%|██████████| 9/9 [00:42<00:00,  4.70s/it]\n",
      "                 Class     Images  Instances      Box(P          R      mAP50  mAP50-95): 100%|██████████| 2/2 [00:05<00:00,  2.64s/"
     ]
    },
    {
     "name": "stdout",
     "output_type": "stream",
     "text": [
      "                   all         44         88      0.648       0.75      0.792      0.419\n"
     ]
    },
    {
     "name": "stderr",
     "output_type": "stream",
     "text": [
      "\n"
     ]
    },
    {
     "name": "stdout",
     "output_type": "stream",
     "text": [
      "\n",
      "      Epoch    GPU_mem   box_loss   cls_loss   dfl_loss  Instances       Size\n"
     ]
    },
    {
     "name": "stderr",
     "output_type": "stream",
     "text": [
      "     62/100         0G      1.832      1.371      2.209         27        640: 100%|██████████| 9/9 [00:42<00:00,  4.70s/it]\n",
      "                 Class     Images  Instances      Box(P          R      mAP50  mAP50-95): 100%|██████████| 2/2 [00:05<00:00,  2.63s/"
     ]
    },
    {
     "name": "stdout",
     "output_type": "stream",
     "text": [
      "                   all         44         88      0.587      0.807      0.737      0.413\n"
     ]
    },
    {
     "name": "stderr",
     "output_type": "stream",
     "text": [
      "\n"
     ]
    },
    {
     "name": "stdout",
     "output_type": "stream",
     "text": [
      "\n",
      "      Epoch    GPU_mem   box_loss   cls_loss   dfl_loss  Instances       Size\n"
     ]
    },
    {
     "name": "stderr",
     "output_type": "stream",
     "text": [
      "     63/100         0G      1.851      1.408      2.265         35        640: 100%|██████████| 9/9 [00:41<00:00,  4.65s/it]\n",
      "                 Class     Images  Instances      Box(P          R      mAP50  mAP50-95): 100%|██████████| 2/2 [00:05<00:00,  2.59s/"
     ]
    },
    {
     "name": "stdout",
     "output_type": "stream",
     "text": [
      "                   all         44         88      0.561      0.754      0.721      0.417\n"
     ]
    },
    {
     "name": "stderr",
     "output_type": "stream",
     "text": [
      "\n"
     ]
    },
    {
     "name": "stdout",
     "output_type": "stream",
     "text": [
      "\n",
      "      Epoch    GPU_mem   box_loss   cls_loss   dfl_loss  Instances       Size\n"
     ]
    },
    {
     "name": "stderr",
     "output_type": "stream",
     "text": [
      "     64/100         0G      1.877      1.386      2.261         37        640: 100%|██████████| 9/9 [00:41<00:00,  4.64s/it]\n",
      "                 Class     Images  Instances      Box(P          R      mAP50  mAP50-95): 100%|██████████| 2/2 [00:05<00:00,  2.59s/"
     ]
    },
    {
     "name": "stdout",
     "output_type": "stream",
     "text": [
      "                   all         44         88      0.667      0.784      0.773      0.454\n"
     ]
    },
    {
     "name": "stderr",
     "output_type": "stream",
     "text": [
      "\n"
     ]
    },
    {
     "name": "stdout",
     "output_type": "stream",
     "text": [
      "\n",
      "      Epoch    GPU_mem   box_loss   cls_loss   dfl_loss  Instances       Size\n"
     ]
    },
    {
     "name": "stderr",
     "output_type": "stream",
     "text": [
      "     65/100         0G      1.857      1.374      2.238         39        640: 100%|██████████| 9/9 [00:41<00:00,  4.61s/it]\n",
      "                 Class     Images  Instances      Box(P          R      mAP50  mAP50-95): 100%|██████████| 2/2 [00:05<00:00,  2.61s/"
     ]
    },
    {
     "name": "stdout",
     "output_type": "stream",
     "text": [
      "                   all         44         88      0.665      0.773      0.782      0.445\n"
     ]
    },
    {
     "name": "stderr",
     "output_type": "stream",
     "text": [
      "\n"
     ]
    },
    {
     "name": "stdout",
     "output_type": "stream",
     "text": [
      "\n",
      "      Epoch    GPU_mem   box_loss   cls_loss   dfl_loss  Instances       Size\n"
     ]
    },
    {
     "name": "stderr",
     "output_type": "stream",
     "text": [
      "     66/100         0G      1.913      1.347      2.294         25        640: 100%|██████████| 9/9 [00:41<00:00,  4.61s/it]\n",
      "                 Class     Images  Instances      Box(P          R      mAP50  mAP50-95): 100%|██████████| 2/2 [00:05<00:00,  2.62s/"
     ]
    },
    {
     "name": "stdout",
     "output_type": "stream",
     "text": [
      "                   all         44         88      0.723      0.773      0.819      0.483\n"
     ]
    },
    {
     "name": "stderr",
     "output_type": "stream",
     "text": [
      "\n"
     ]
    },
    {
     "name": "stdout",
     "output_type": "stream",
     "text": [
      "\n",
      "      Epoch    GPU_mem   box_loss   cls_loss   dfl_loss  Instances       Size\n"
     ]
    },
    {
     "name": "stderr",
     "output_type": "stream",
     "text": [
      "     67/100         0G      1.916      1.316      2.238         53        640: 100%|██████████| 9/9 [00:42<00:00,  4.72s/it]\n",
      "                 Class     Images  Instances      Box(P          R      mAP50  mAP50-95): 100%|██████████| 2/2 [00:05<00:00,  2.63s/"
     ]
    },
    {
     "name": "stdout",
     "output_type": "stream",
     "text": [
      "                   all         44         88      0.773       0.67      0.847      0.469\n"
     ]
    },
    {
     "name": "stderr",
     "output_type": "stream",
     "text": [
      "\n"
     ]
    },
    {
     "name": "stdout",
     "output_type": "stream",
     "text": [
      "\n",
      "      Epoch    GPU_mem   box_loss   cls_loss   dfl_loss  Instances       Size\n"
     ]
    },
    {
     "name": "stderr",
     "output_type": "stream",
     "text": [
      "     68/100         0G      1.878      1.333      2.246         44        640: 100%|██████████| 9/9 [00:42<00:00,  4.75s/it]\n",
      "                 Class     Images  Instances      Box(P          R      mAP50  mAP50-95): 100%|██████████| 2/2 [00:05<00:00,  2.59s/"
     ]
    },
    {
     "name": "stdout",
     "output_type": "stream",
     "text": [
      "                   all         44         88      0.742      0.819      0.835      0.449\n"
     ]
    },
    {
     "name": "stderr",
     "output_type": "stream",
     "text": [
      "\n"
     ]
    },
    {
     "name": "stdout",
     "output_type": "stream",
     "text": [
      "\n",
      "      Epoch    GPU_mem   box_loss   cls_loss   dfl_loss  Instances       Size\n"
     ]
    },
    {
     "name": "stderr",
     "output_type": "stream",
     "text": [
      "     69/100         0G      1.887      1.295      2.217         40        640: 100%|██████████| 9/9 [00:42<00:00,  4.67s/it]\n",
      "                 Class     Images  Instances      Box(P          R      mAP50  mAP50-95): 100%|██████████| 2/2 [00:05<00:00,  2.62s/"
     ]
    },
    {
     "name": "stdout",
     "output_type": "stream",
     "text": [
      "                   all         44         88      0.743      0.727      0.818      0.433\n"
     ]
    },
    {
     "name": "stderr",
     "output_type": "stream",
     "text": [
      "\n"
     ]
    },
    {
     "name": "stdout",
     "output_type": "stream",
     "text": [
      "\n",
      "      Epoch    GPU_mem   box_loss   cls_loss   dfl_loss  Instances       Size\n"
     ]
    },
    {
     "name": "stderr",
     "output_type": "stream",
     "text": [
      "     70/100         0G      1.874      1.316      2.252         57        640: 100%|██████████| 9/9 [00:41<00:00,  4.66s/it]\n",
      "                 Class     Images  Instances      Box(P          R      mAP50  mAP50-95): 100%|██████████| 2/2 [00:05<00:00,  2.63s/"
     ]
    },
    {
     "name": "stdout",
     "output_type": "stream",
     "text": [
      "                   all         44         88      0.809      0.705      0.828      0.428\n"
     ]
    },
    {
     "name": "stderr",
     "output_type": "stream",
     "text": [
      "\n"
     ]
    },
    {
     "name": "stdout",
     "output_type": "stream",
     "text": [
      "\n",
      "      Epoch    GPU_mem   box_loss   cls_loss   dfl_loss  Instances       Size\n"
     ]
    },
    {
     "name": "stderr",
     "output_type": "stream",
     "text": [
      "     71/100         0G      1.855       1.33      2.219         34        640: 100%|██████████| 9/9 [00:42<00:00,  4.70s/it]\n",
      "                 Class     Images  Instances      Box(P          R      mAP50  mAP50-95): 100%|██████████| 2/2 [00:05<00:00,  2.57s/"
     ]
    },
    {
     "name": "stdout",
     "output_type": "stream",
     "text": [
      "                   all         44         88      0.833      0.738      0.864      0.482\n"
     ]
    },
    {
     "name": "stderr",
     "output_type": "stream",
     "text": [
      "\n"
     ]
    },
    {
     "name": "stdout",
     "output_type": "stream",
     "text": [
      "\n",
      "      Epoch    GPU_mem   box_loss   cls_loss   dfl_loss  Instances       Size\n"
     ]
    },
    {
     "name": "stderr",
     "output_type": "stream",
     "text": [
      "     72/100         0G      1.928      1.375       2.29         42        640: 100%|██████████| 9/9 [00:42<00:00,  4.67s/it]\n",
      "                 Class     Images  Instances      Box(P          R      mAP50  mAP50-95): 100%|██████████| 2/2 [00:05<00:00,  2.57s/"
     ]
    },
    {
     "name": "stdout",
     "output_type": "stream",
     "text": [
      "                   all         44         88      0.823      0.687      0.834      0.481\n"
     ]
    },
    {
     "name": "stderr",
     "output_type": "stream",
     "text": [
      "\n"
     ]
    },
    {
     "name": "stdout",
     "output_type": "stream",
     "text": [
      "\n",
      "      Epoch    GPU_mem   box_loss   cls_loss   dfl_loss  Instances       Size\n"
     ]
    },
    {
     "name": "stderr",
     "output_type": "stream",
     "text": [
      "     73/100         0G      1.825        1.3      2.199         45        640: 100%|██████████| 9/9 [00:42<00:00,  4.75s/it]\n",
      "                 Class     Images  Instances      Box(P          R      mAP50  mAP50-95): 100%|██████████| 2/2 [00:05<00:00,  2.63s/"
     ]
    },
    {
     "name": "stdout",
     "output_type": "stream",
     "text": [
      "                   all         44         88      0.853       0.75       0.85      0.484\n"
     ]
    },
    {
     "name": "stderr",
     "output_type": "stream",
     "text": [
      "\n"
     ]
    },
    {
     "name": "stdout",
     "output_type": "stream",
     "text": [
      "\n",
      "      Epoch    GPU_mem   box_loss   cls_loss   dfl_loss  Instances       Size\n"
     ]
    },
    {
     "name": "stderr",
     "output_type": "stream",
     "text": [
      "     74/100         0G      1.811      1.288      2.233         37        640: 100%|██████████| 9/9 [00:42<00:00,  4.70s/it]\n",
      "                 Class     Images  Instances      Box(P          R      mAP50  mAP50-95): 100%|██████████| 2/2 [00:05<00:00,  2.64s/"
     ]
    },
    {
     "name": "stdout",
     "output_type": "stream",
     "text": [
      "                   all         44         88      0.826      0.756      0.884      0.505\n"
     ]
    },
    {
     "name": "stderr",
     "output_type": "stream",
     "text": [
      "\n"
     ]
    },
    {
     "name": "stdout",
     "output_type": "stream",
     "text": [
      "\n",
      "      Epoch    GPU_mem   box_loss   cls_loss   dfl_loss  Instances       Size\n"
     ]
    },
    {
     "name": "stderr",
     "output_type": "stream",
     "text": [
      "     75/100         0G      1.758      1.318      2.181         27        640: 100%|██████████| 9/9 [00:41<00:00,  4.65s/it]\n",
      "                 Class     Images  Instances      Box(P          R      mAP50  mAP50-95): 100%|██████████| 2/2 [00:05<00:00,  2.64s/"
     ]
    },
    {
     "name": "stdout",
     "output_type": "stream",
     "text": [
      "                   all         44         88      0.861      0.704      0.851      0.468\n"
     ]
    },
    {
     "name": "stderr",
     "output_type": "stream",
     "text": [
      "\n"
     ]
    },
    {
     "name": "stdout",
     "output_type": "stream",
     "text": [
      "\n",
      "      Epoch    GPU_mem   box_loss   cls_loss   dfl_loss  Instances       Size\n"
     ]
    },
    {
     "name": "stderr",
     "output_type": "stream",
     "text": [
      "     76/100         0G      1.803      1.284      2.166         48        640: 100%|██████████| 9/9 [00:42<00:00,  4.69s/it]\n",
      "                 Class     Images  Instances      Box(P          R      mAP50  mAP50-95): 100%|██████████| 2/2 [00:05<00:00,  2.76s/"
     ]
    },
    {
     "name": "stdout",
     "output_type": "stream",
     "text": [
      "                   all         44         88      0.876       0.67      0.862      0.474\n"
     ]
    },
    {
     "name": "stderr",
     "output_type": "stream",
     "text": [
      "\n"
     ]
    },
    {
     "name": "stdout",
     "output_type": "stream",
     "text": [
      "\n",
      "      Epoch    GPU_mem   box_loss   cls_loss   dfl_loss  Instances       Size\n"
     ]
    },
    {
     "name": "stderr",
     "output_type": "stream",
     "text": [
      "     77/100         0G      1.754      1.277      2.187         49        640: 100%|██████████| 9/9 [00:42<00:00,  4.71s/it]\n",
      "                 Class     Images  Instances      Box(P          R      mAP50  mAP50-95): 100%|██████████| 2/2 [00:05<00:00,  2.64s/"
     ]
    },
    {
     "name": "stdout",
     "output_type": "stream",
     "text": [
      "                   all         44         88      0.909      0.792      0.908      0.505\n"
     ]
    },
    {
     "name": "stderr",
     "output_type": "stream",
     "text": [
      "\n"
     ]
    },
    {
     "name": "stdout",
     "output_type": "stream",
     "text": [
      "\n",
      "      Epoch    GPU_mem   box_loss   cls_loss   dfl_loss  Instances       Size\n"
     ]
    },
    {
     "name": "stderr",
     "output_type": "stream",
     "text": [
      "     78/100         0G      1.782      1.287      2.179         42        640: 100%|██████████| 9/9 [00:42<00:00,  4.73s/it]\n",
      "                 Class     Images  Instances      Box(P          R      mAP50  mAP50-95): 100%|██████████| 2/2 [00:05<00:00,  2.66s/"
     ]
    },
    {
     "name": "stdout",
     "output_type": "stream",
     "text": [
      "                   all         44         88      0.823      0.761      0.858      0.492\n"
     ]
    },
    {
     "name": "stderr",
     "output_type": "stream",
     "text": [
      "\n"
     ]
    },
    {
     "name": "stdout",
     "output_type": "stream",
     "text": [
      "\n",
      "      Epoch    GPU_mem   box_loss   cls_loss   dfl_loss  Instances       Size\n"
     ]
    },
    {
     "name": "stderr",
     "output_type": "stream",
     "text": [
      "     79/100         0G      1.831       1.35      2.191         24        640: 100%|██████████| 9/9 [00:42<00:00,  4.76s/it]\n",
      "                 Class     Images  Instances      Box(P          R      mAP50  mAP50-95): 100%|██████████| 2/2 [00:05<00:00,  2.59s/"
     ]
    },
    {
     "name": "stdout",
     "output_type": "stream",
     "text": [
      "                   all         44         88      0.827      0.807      0.866      0.504\n"
     ]
    },
    {
     "name": "stderr",
     "output_type": "stream",
     "text": [
      "\n"
     ]
    },
    {
     "name": "stdout",
     "output_type": "stream",
     "text": [
      "\n",
      "      Epoch    GPU_mem   box_loss   cls_loss   dfl_loss  Instances       Size\n"
     ]
    },
    {
     "name": "stderr",
     "output_type": "stream",
     "text": [
      "     80/100         0G      1.766      1.258      2.146         35        640: 100%|██████████| 9/9 [00:42<00:00,  4.74s/it]\n",
      "                 Class     Images  Instances      Box(P          R      mAP50  mAP50-95): 100%|██████████| 2/2 [00:05<00:00,  2.64s/"
     ]
    },
    {
     "name": "stdout",
     "output_type": "stream",
     "text": [
      "                   all         44         88      0.842      0.787      0.885      0.533\n"
     ]
    },
    {
     "name": "stderr",
     "output_type": "stream",
     "text": [
      "\n"
     ]
    },
    {
     "name": "stdout",
     "output_type": "stream",
     "text": [
      "\n",
      "      Epoch    GPU_mem   box_loss   cls_loss   dfl_loss  Instances       Size\n"
     ]
    },
    {
     "name": "stderr",
     "output_type": "stream",
     "text": [
      "     81/100         0G      1.768      1.303      2.165         36        640: 100%|██████████| 9/9 [00:41<00:00,  4.62s/it]\n",
      "                 Class     Images  Instances      Box(P          R      mAP50  mAP50-95): 100%|██████████| 2/2 [00:05<00:00,  2.62s/"
     ]
    },
    {
     "name": "stdout",
     "output_type": "stream",
     "text": [
      "                   all         44         88      0.797       0.83      0.893      0.511\n"
     ]
    },
    {
     "name": "stderr",
     "output_type": "stream",
     "text": [
      "\n"
     ]
    },
    {
     "name": "stdout",
     "output_type": "stream",
     "text": [
      "\n",
      "      Epoch    GPU_mem   box_loss   cls_loss   dfl_loss  Instances       Size\n"
     ]
    },
    {
     "name": "stderr",
     "output_type": "stream",
     "text": [
      "     82/100         0G      1.753      1.307      2.177         33        640: 100%|██████████| 9/9 [00:42<00:00,  4.71s/it]\n",
      "                 Class     Images  Instances      Box(P          R      mAP50  mAP50-95): 100%|██████████| 2/2 [00:05<00:00,  2.87s/"
     ]
    },
    {
     "name": "stdout",
     "output_type": "stream",
     "text": [
      "                   all         44         88      0.825       0.83      0.898      0.511\n"
     ]
    },
    {
     "name": "stderr",
     "output_type": "stream",
     "text": [
      "\n"
     ]
    },
    {
     "name": "stdout",
     "output_type": "stream",
     "text": [
      "\n",
      "      Epoch    GPU_mem   box_loss   cls_loss   dfl_loss  Instances       Size\n"
     ]
    },
    {
     "name": "stderr",
     "output_type": "stream",
     "text": [
      "     83/100         0G      1.765      1.307      2.181         28        640: 100%|██████████| 9/9 [00:42<00:00,  4.71s/it]\n",
      "                 Class     Images  Instances      Box(P          R      mAP50  mAP50-95): 100%|██████████| 2/2 [00:05<00:00,  2.67s/"
     ]
    },
    {
     "name": "stdout",
     "output_type": "stream",
     "text": [
      "                   all         44         88      0.813      0.864      0.905      0.541\n"
     ]
    },
    {
     "name": "stderr",
     "output_type": "stream",
     "text": [
      "\n"
     ]
    },
    {
     "name": "stdout",
     "output_type": "stream",
     "text": [
      "\n",
      "      Epoch    GPU_mem   box_loss   cls_loss   dfl_loss  Instances       Size\n"
     ]
    },
    {
     "name": "stderr",
     "output_type": "stream",
     "text": [
      "     84/100         0G      1.749      1.251      2.119         29        640: 100%|██████████| 9/9 [00:45<00:00,  5.05s/it]\n",
      "                 Class     Images  Instances      Box(P          R      mAP50  mAP50-95): 100%|██████████| 2/2 [00:05<00:00,  2.58s/"
     ]
    },
    {
     "name": "stdout",
     "output_type": "stream",
     "text": [
      "                   all         44         88       0.87      0.835      0.918      0.548\n"
     ]
    },
    {
     "name": "stderr",
     "output_type": "stream",
     "text": [
      "\n"
     ]
    },
    {
     "name": "stdout",
     "output_type": "stream",
     "text": [
      "\n",
      "      Epoch    GPU_mem   box_loss   cls_loss   dfl_loss  Instances       Size\n"
     ]
    },
    {
     "name": "stderr",
     "output_type": "stream",
     "text": [
      "     85/100         0G      1.741      1.216      2.046         37        640: 100%|██████████| 9/9 [00:42<00:00,  4.69s/it]\n",
      "                 Class     Images  Instances      Box(P          R      mAP50  mAP50-95): 100%|██████████| 2/2 [00:05<00:00,  2.63s/"
     ]
    },
    {
     "name": "stdout",
     "output_type": "stream",
     "text": [
      "                   all         44         88      0.795      0.886      0.896      0.506\n"
     ]
    },
    {
     "name": "stderr",
     "output_type": "stream",
     "text": [
      "\n"
     ]
    },
    {
     "name": "stdout",
     "output_type": "stream",
     "text": [
      "\n",
      "      Epoch    GPU_mem   box_loss   cls_loss   dfl_loss  Instances       Size\n"
     ]
    },
    {
     "name": "stderr",
     "output_type": "stream",
     "text": [
      "     86/100         0G      1.815      1.268      2.169         43        640: 100%|██████████| 9/9 [00:41<00:00,  4.61s/it]\n",
      "                 Class     Images  Instances      Box(P          R      mAP50  mAP50-95): 100%|██████████| 2/2 [00:05<00:00,  2.63s/"
     ]
    },
    {
     "name": "stdout",
     "output_type": "stream",
     "text": [
      "                   all         44         88      0.814      0.845      0.913      0.537\n"
     ]
    },
    {
     "name": "stderr",
     "output_type": "stream",
     "text": [
      "\n"
     ]
    },
    {
     "name": "stdout",
     "output_type": "stream",
     "text": [
      "\n",
      "      Epoch    GPU_mem   box_loss   cls_loss   dfl_loss  Instances       Size\n"
     ]
    },
    {
     "name": "stderr",
     "output_type": "stream",
     "text": [
      "     87/100         0G      1.732      1.196        2.1         58        640: 100%|██████████| 9/9 [00:41<00:00,  4.63s/it]\n",
      "                 Class     Images  Instances      Box(P          R      mAP50  mAP50-95): 100%|██████████| 2/2 [00:05<00:00,  2.64s/"
     ]
    },
    {
     "name": "stdout",
     "output_type": "stream",
     "text": [
      "                   all         44         88      0.922      0.818      0.919      0.565\n"
     ]
    },
    {
     "name": "stderr",
     "output_type": "stream",
     "text": [
      "\n"
     ]
    },
    {
     "name": "stdout",
     "output_type": "stream",
     "text": [
      "\n",
      "      Epoch    GPU_mem   box_loss   cls_loss   dfl_loss  Instances       Size\n"
     ]
    },
    {
     "name": "stderr",
     "output_type": "stream",
     "text": [
      "     88/100         0G      1.703      1.235      2.058         42        640: 100%|██████████| 9/9 [00:43<00:00,  4.83s/it]\n",
      "                 Class     Images  Instances      Box(P          R      mAP50  mAP50-95): 100%|██████████| 2/2 [00:05<00:00,  2.60s/"
     ]
    },
    {
     "name": "stdout",
     "output_type": "stream",
     "text": [
      "                   all         44         88      0.882      0.841      0.907      0.546\n"
     ]
    },
    {
     "name": "stderr",
     "output_type": "stream",
     "text": [
      "\n"
     ]
    },
    {
     "name": "stdout",
     "output_type": "stream",
     "text": [
      "\n",
      "      Epoch    GPU_mem   box_loss   cls_loss   dfl_loss  Instances       Size\n"
     ]
    },
    {
     "name": "stderr",
     "output_type": "stream",
     "text": [
      "     89/100         0G      1.671      1.232      2.085         46        640: 100%|██████████| 9/9 [00:42<00:00,  4.73s/it]\n",
      "                 Class     Images  Instances      Box(P          R      mAP50  mAP50-95): 100%|██████████| 2/2 [00:05<00:00,  2.63s/"
     ]
    },
    {
     "name": "stdout",
     "output_type": "stream",
     "text": [
      "                   all         44         88      0.834      0.841       0.91      0.546\n"
     ]
    },
    {
     "name": "stderr",
     "output_type": "stream",
     "text": [
      "\n"
     ]
    },
    {
     "name": "stdout",
     "output_type": "stream",
     "text": [
      "\n",
      "      Epoch    GPU_mem   box_loss   cls_loss   dfl_loss  Instances       Size\n"
     ]
    },
    {
     "name": "stderr",
     "output_type": "stream",
     "text": [
      "     90/100         0G      1.761      1.321      2.153         36        640: 100%|██████████| 9/9 [00:42<00:00,  4.68s/it]\n",
      "                 Class     Images  Instances      Box(P          R      mAP50  mAP50-95): 100%|██████████| 2/2 [00:05<00:00,  2.64s/"
     ]
    },
    {
     "name": "stdout",
     "output_type": "stream",
     "text": [
      "                   all         44         88      0.904       0.86      0.921       0.55\n"
     ]
    },
    {
     "name": "stderr",
     "output_type": "stream",
     "text": [
      "\n"
     ]
    },
    {
     "name": "stdout",
     "output_type": "stream",
     "text": [
      "Closing dataloader mosaic\n",
      "\n",
      "      Epoch    GPU_mem   box_loss   cls_loss   dfl_loss  Instances       Size\n"
     ]
    },
    {
     "name": "stderr",
     "output_type": "stream",
     "text": [
      "     91/100         0G      1.575      1.234      2.107         24        640: 100%|██████████| 9/9 [00:42<00:00,  4.77s/it]\n",
      "                 Class     Images  Instances      Box(P          R      mAP50  mAP50-95): 100%|██████████| 2/2 [00:05<00:00,  2.57s/"
     ]
    },
    {
     "name": "stdout",
     "output_type": "stream",
     "text": [
      "                   all         44         88      0.896      0.852      0.908      0.567\n"
     ]
    },
    {
     "name": "stderr",
     "output_type": "stream",
     "text": [
      "\n"
     ]
    },
    {
     "name": "stdout",
     "output_type": "stream",
     "text": [
      "\n",
      "      Epoch    GPU_mem   box_loss   cls_loss   dfl_loss  Instances       Size\n"
     ]
    },
    {
     "name": "stderr",
     "output_type": "stream",
     "text": [
      "     92/100         0G      1.539       1.19      2.015         24        640: 100%|██████████| 9/9 [00:40<00:00,  4.53s/it]\n",
      "                 Class     Images  Instances      Box(P          R      mAP50  mAP50-95): 100%|██████████| 2/2 [00:05<00:00,  2.59s/"
     ]
    },
    {
     "name": "stdout",
     "output_type": "stream",
     "text": [
      "                   all         44         88      0.863      0.857      0.917      0.556\n"
     ]
    },
    {
     "name": "stderr",
     "output_type": "stream",
     "text": [
      "\n"
     ]
    },
    {
     "name": "stdout",
     "output_type": "stream",
     "text": [
      "\n",
      "      Epoch    GPU_mem   box_loss   cls_loss   dfl_loss  Instances       Size\n"
     ]
    },
    {
     "name": "stderr",
     "output_type": "stream",
     "text": [
      "     93/100         0G      1.597      1.223      2.125         24        640: 100%|██████████| 9/9 [00:42<00:00,  4.68s/it]\n",
      "                 Class     Images  Instances      Box(P          R      mAP50  mAP50-95): 100%|██████████| 2/2 [00:05<00:00,  2.65s/"
     ]
    },
    {
     "name": "stdout",
     "output_type": "stream",
     "text": [
      "                   all         44         88      0.836       0.87      0.915       0.55\n"
     ]
    },
    {
     "name": "stderr",
     "output_type": "stream",
     "text": [
      "\n"
     ]
    },
    {
     "name": "stdout",
     "output_type": "stream",
     "text": [
      "\n",
      "      Epoch    GPU_mem   box_loss   cls_loss   dfl_loss  Instances       Size\n"
     ]
    },
    {
     "name": "stderr",
     "output_type": "stream",
     "text": [
      "     94/100         0G      1.507      1.154      2.015         24        640: 100%|██████████| 9/9 [00:42<00:00,  4.71s/it]\n",
      "                 Class     Images  Instances      Box(P          R      mAP50  mAP50-95): 100%|██████████| 2/2 [00:05<00:00,  2.61s/"
     ]
    },
    {
     "name": "stdout",
     "output_type": "stream",
     "text": [
      "                   all         44         88      0.885      0.878      0.931      0.569\n"
     ]
    },
    {
     "name": "stderr",
     "output_type": "stream",
     "text": [
      "\n"
     ]
    },
    {
     "name": "stdout",
     "output_type": "stream",
     "text": [
      "\n",
      "      Epoch    GPU_mem   box_loss   cls_loss   dfl_loss  Instances       Size\n"
     ]
    },
    {
     "name": "stderr",
     "output_type": "stream",
     "text": [
      "     95/100         0G      1.566      1.177      2.082         22        640: 100%|██████████| 9/9 [00:42<00:00,  4.70s/it]\n",
      "                 Class     Images  Instances      Box(P          R      mAP50  mAP50-95): 100%|██████████| 2/2 [00:05<00:00,  2.66s/"
     ]
    },
    {
     "name": "stdout",
     "output_type": "stream",
     "text": [
      "                   all         44         88       0.88      0.886      0.932      0.583\n"
     ]
    },
    {
     "name": "stderr",
     "output_type": "stream",
     "text": [
      "\n"
     ]
    },
    {
     "name": "stdout",
     "output_type": "stream",
     "text": [
      "\n",
      "      Epoch    GPU_mem   box_loss   cls_loss   dfl_loss  Instances       Size\n"
     ]
    },
    {
     "name": "stderr",
     "output_type": "stream",
     "text": [
      "     96/100         0G      1.549      1.144       2.04         24        640: 100%|██████████| 9/9 [00:42<00:00,  4.68s/it]\n",
      "                 Class     Images  Instances      Box(P          R      mAP50  mAP50-95): 100%|██████████| 2/2 [00:05<00:00,  2.59s/"
     ]
    },
    {
     "name": "stdout",
     "output_type": "stream",
     "text": [
      "                   all         44         88       0.88      0.875      0.921      0.591\n"
     ]
    },
    {
     "name": "stderr",
     "output_type": "stream",
     "text": [
      "\n"
     ]
    },
    {
     "name": "stdout",
     "output_type": "stream",
     "text": [
      "\n",
      "      Epoch    GPU_mem   box_loss   cls_loss   dfl_loss  Instances       Size\n"
     ]
    },
    {
     "name": "stderr",
     "output_type": "stream",
     "text": [
      "     97/100         0G        1.5      1.117      2.014         22        640: 100%|██████████| 9/9 [00:42<00:00,  4.70s/it]\n",
      "                 Class     Images  Instances      Box(P          R      mAP50  mAP50-95): 100%|██████████| 2/2 [00:05<00:00,  2.62s/"
     ]
    },
    {
     "name": "stdout",
     "output_type": "stream",
     "text": [
      "                   all         44         88      0.876      0.881       0.92      0.584\n"
     ]
    },
    {
     "name": "stderr",
     "output_type": "stream",
     "text": [
      "\n"
     ]
    },
    {
     "name": "stdout",
     "output_type": "stream",
     "text": [
      "\n",
      "      Epoch    GPU_mem   box_loss   cls_loss   dfl_loss  Instances       Size\n"
     ]
    },
    {
     "name": "stderr",
     "output_type": "stream",
     "text": [
      "     98/100         0G      1.516      1.134      2.031         24        640: 100%|██████████| 9/9 [00:42<00:00,  4.76s/it]\n",
      "                 Class     Images  Instances      Box(P          R      mAP50  mAP50-95): 100%|██████████| 2/2 [00:05<00:00,  2.60s/"
     ]
    },
    {
     "name": "stdout",
     "output_type": "stream",
     "text": [
      "                   all         44         88      0.894      0.886       0.92      0.581\n"
     ]
    },
    {
     "name": "stderr",
     "output_type": "stream",
     "text": [
      "\n"
     ]
    },
    {
     "name": "stdout",
     "output_type": "stream",
     "text": [
      "\n",
      "      Epoch    GPU_mem   box_loss   cls_loss   dfl_loss  Instances       Size\n"
     ]
    },
    {
     "name": "stderr",
     "output_type": "stream",
     "text": [
      "     99/100         0G      1.543      1.139      2.036         24        640: 100%|██████████| 9/9 [00:42<00:00,  4.68s/it]\n",
      "                 Class     Images  Instances      Box(P          R      mAP50  mAP50-95): 100%|██████████| 2/2 [00:05<00:00,  2.60s/"
     ]
    },
    {
     "name": "stdout",
     "output_type": "stream",
     "text": [
      "                   all         44         88      0.893      0.898      0.924      0.581\n"
     ]
    },
    {
     "name": "stderr",
     "output_type": "stream",
     "text": [
      "\n"
     ]
    },
    {
     "name": "stdout",
     "output_type": "stream",
     "text": [
      "\n",
      "      Epoch    GPU_mem   box_loss   cls_loss   dfl_loss  Instances       Size\n"
     ]
    },
    {
     "name": "stderr",
     "output_type": "stream",
     "text": [
      "    100/100         0G      1.546      1.116      2.024         24        640: 100%|██████████| 9/9 [00:44<00:00,  4.95s/it]\n",
      "                 Class     Images  Instances      Box(P          R      mAP50  mAP50-95): 100%|██████████| 2/2 [00:05<00:00,  2.59s/"
     ]
    },
    {
     "name": "stdout",
     "output_type": "stream",
     "text": [
      "                   all         44         88      0.877      0.898      0.922      0.581\n"
     ]
    },
    {
     "name": "stderr",
     "output_type": "stream",
     "text": [
      "\n"
     ]
    },
    {
     "name": "stdout",
     "output_type": "stream",
     "text": [
      "\n",
      "100 epochs completed in 1.355 hours.\n",
      "Optimizer stripped from YOLOv8_Fundus\\disk_detection3\\weights\\last.pt, 6.3MB\n",
      "Optimizer stripped from YOLOv8_Fundus\\disk_detection3\\weights\\best.pt, 6.3MB\n",
      "\n",
      "Validating YOLOv8_Fundus\\disk_detection3\\weights\\best.pt...\n",
      "WARNING  validating an untrained model YAML will result in 0 mAP.\n",
      "Ultralytics 8.3.25  Python-3.10.15 torch-2.5.1+cpu CPU (AMD Ryzen 5 5625U with Radeon Graphics)\n",
      "YOLOv8n summary (fused): 168 layers, 3,005,843 parameters, 0 gradients, 8.1 GFLOPs\n"
     ]
    },
    {
     "name": "stderr",
     "output_type": "stream",
     "text": [
      "                 Class     Images  Instances      Box(P          R      mAP50  mAP50-95): 100%|██████████| 2/2 [00:04<00:00,  2.26s/\n"
     ]
    },
    {
     "name": "stdout",
     "output_type": "stream",
     "text": [
      "                   all         44         88      0.875      0.875       0.92      0.592\n",
      "Speed: 3.5ms preprocess, 87.5ms inference, 0.0ms loss, 0.4ms postprocess per image\n",
      "Results saved to \u001b[1mYOLOv8_Fundus\\disk_detection3\u001b[0m\n",
      "Trained model saved at YOLOv8_Fundus/disk_detection/weights/best.pt\n"
     ]
    }
   ],
   "source": [
    "from ultralytics import YOLO\n",
    "\n",
    "# Load a YOLOv8 model architecture - choose from 'yolov8n', 'yolov8s', 'yolov8m', etc.\n",
    "model = YOLO('yolov8n.yaml')  # 'yolov8n.yaml' is a lightweight option, adjust based on your hardware\n",
    "\n",
    "# Train the model on your dataset and save the weights\n",
    "model.train(data='Glaucoma/data.yaml', epochs=100, imgsz=640, project='YOLOv8_Fundus', name='disk_detection')\n",
    "\n",
    "# Save the best model checkpoint after training\n",
    "model_path = 'YOLOv8_Fundus/disk_detection/weights/best.pt'\n",
    "print(f\"Trained model saved at {model_path}\")"
   ]
  },
  {
   "cell_type": "code",
   "execution_count": 9,
   "id": "e35fabe2-3e59-46dd-a65a-b01e9638e45f",
   "metadata": {},
   "outputs": [
    {
     "name": "stdout",
     "output_type": "stream",
     "text": [
      "\n",
      "image 1/1 C:\\Users\\souri\\OneDrive\\Desktop\\HDA\\Glaucoma\\test\\images\\glc09_jpg.rf.580b11bed718c41b0c9bd59887189561.jpg: 640x640 2 disks, 78.7ms\n",
      "Speed: 5.0ms preprocess, 78.7ms inference, 0.0ms postprocess per image at shape (1, 3, 640, 640)\n",
      "Processed glc09_jpg.rf.580b11bed718c41b0c9bd59887189561.jpg and saved to Glaucoma\\test\\predictions\\pred_glc09_jpg.rf.580b11bed718c41b0c9bd59887189561.jpg\n",
      "\n",
      "image 1/1 C:\\Users\\souri\\OneDrive\\Desktop\\HDA\\Glaucoma\\test\\images\\glc103_jpg.rf.d84171d59de071f02bddd326e09ca144.jpg: 640x640 2 disks, 67.6ms\n",
      "Speed: 4.0ms preprocess, 67.6ms inference, 2.0ms postprocess per image at shape (1, 3, 640, 640)\n",
      "Processed glc103_jpg.rf.d84171d59de071f02bddd326e09ca144.jpg and saved to Glaucoma\\test\\predictions\\pred_glc103_jpg.rf.d84171d59de071f02bddd326e09ca144.jpg\n",
      "\n",
      "image 1/1 C:\\Users\\souri\\OneDrive\\Desktop\\HDA\\Glaucoma\\test\\images\\glc11_jpg.rf.989cf5b883c73cb4e88a3290697f1019.jpg: 640x640 3 disks, 69.9ms\n",
      "Speed: 1.7ms preprocess, 69.9ms inference, 2.0ms postprocess per image at shape (1, 3, 640, 640)\n",
      "Processed glc11_jpg.rf.989cf5b883c73cb4e88a3290697f1019.jpg and saved to Glaucoma\\test\\predictions\\pred_glc11_jpg.rf.989cf5b883c73cb4e88a3290697f1019.jpg\n",
      "\n",
      "image 1/1 C:\\Users\\souri\\OneDrive\\Desktop\\HDA\\Glaucoma\\test\\images\\glc121_jpg.rf.95d627270b7d3022ec044f42b99685d4.jpg: 640x640 4 disks, 68.3ms\n",
      "Speed: 4.2ms preprocess, 68.3ms inference, 2.0ms postprocess per image at shape (1, 3, 640, 640)\n",
      "Processed glc121_jpg.rf.95d627270b7d3022ec044f42b99685d4.jpg and saved to Glaucoma\\test\\predictions\\pred_glc121_jpg.rf.95d627270b7d3022ec044f42b99685d4.jpg\n",
      "\n",
      "image 1/1 C:\\Users\\souri\\OneDrive\\Desktop\\HDA\\Glaucoma\\test\\images\\glc128_jpg.rf.bfefd030c664af8895cd35274a1acd70.jpg: 640x640 3 disks, 60.3ms\n",
      "Speed: 2.0ms preprocess, 60.3ms inference, 0.0ms postprocess per image at shape (1, 3, 640, 640)\n",
      "Processed glc128_jpg.rf.bfefd030c664af8895cd35274a1acd70.jpg and saved to Glaucoma\\test\\predictions\\pred_glc128_jpg.rf.bfefd030c664af8895cd35274a1acd70.jpg\n",
      "\n",
      "image 1/1 C:\\Users\\souri\\OneDrive\\Desktop\\HDA\\Glaucoma\\test\\images\\glc135_jpg.rf.8c60048123762b733d1ab9ed30c6e7bb.jpg: 640x640 2 disks, 74.8ms\n",
      "Speed: 1.7ms preprocess, 74.8ms inference, 0.0ms postprocess per image at shape (1, 3, 640, 640)\n",
      "Processed glc135_jpg.rf.8c60048123762b733d1ab9ed30c6e7bb.jpg and saved to Glaucoma\\test\\predictions\\pred_glc135_jpg.rf.8c60048123762b733d1ab9ed30c6e7bb.jpg\n",
      "\n",
      "image 1/1 C:\\Users\\souri\\OneDrive\\Desktop\\HDA\\Glaucoma\\test\\images\\glc151_jpg.rf.ae234ee83d6e9dca45fdd0e0ae13f027.jpg: 640x640 4 disks, 75.7ms\n",
      "Speed: 2.0ms preprocess, 75.7ms inference, 1.8ms postprocess per image at shape (1, 3, 640, 640)\n",
      "Processed glc151_jpg.rf.ae234ee83d6e9dca45fdd0e0ae13f027.jpg and saved to Glaucoma\\test\\predictions\\pred_glc151_jpg.rf.ae234ee83d6e9dca45fdd0e0ae13f027.jpg\n",
      "\n",
      "image 1/1 C:\\Users\\souri\\OneDrive\\Desktop\\HDA\\Glaucoma\\test\\images\\glc161_jpg.rf.2d013fe04c3bc0ab484b7766cecb3df2.jpg: 640x640 2 disks, 81.9ms\n",
      "Speed: 2.0ms preprocess, 81.9ms inference, 0.0ms postprocess per image at shape (1, 3, 640, 640)\n",
      "Processed glc161_jpg.rf.2d013fe04c3bc0ab484b7766cecb3df2.jpg and saved to Glaucoma\\test\\predictions\\pred_glc161_jpg.rf.2d013fe04c3bc0ab484b7766cecb3df2.jpg\n",
      "\n",
      "image 1/1 C:\\Users\\souri\\OneDrive\\Desktop\\HDA\\Glaucoma\\test\\images\\glc170_jpg.rf.4855ae8b43de3581f4e927d9cd9a23a8.jpg: 640x640 3 disks, 78.4ms\n",
      "Speed: 4.0ms preprocess, 78.4ms inference, 0.0ms postprocess per image at shape (1, 3, 640, 640)\n",
      "Processed glc170_jpg.rf.4855ae8b43de3581f4e927d9cd9a23a8.jpg and saved to Glaucoma\\test\\predictions\\pred_glc170_jpg.rf.4855ae8b43de3581f4e927d9cd9a23a8.jpg\n",
      "\n",
      "image 1/1 C:\\Users\\souri\\OneDrive\\Desktop\\HDA\\Glaucoma\\test\\images\\glc194_jpg.rf.820a9dcc660e81a7e621ecf5a32be400.jpg: 640x640 2 disks, 75.9ms\n",
      "Speed: 3.8ms preprocess, 75.9ms inference, 0.0ms postprocess per image at shape (1, 3, 640, 640)\n",
      "Processed glc194_jpg.rf.820a9dcc660e81a7e621ecf5a32be400.jpg and saved to Glaucoma\\test\\predictions\\pred_glc194_jpg.rf.820a9dcc660e81a7e621ecf5a32be400.jpg\n",
      "\n",
      "image 1/1 C:\\Users\\souri\\OneDrive\\Desktop\\HDA\\Glaucoma\\test\\images\\glc197_jpg.rf.9a4905c28e400b6d6d2b389ef2e5728e.jpg: 640x640 4 disks, 77.8ms\n",
      "Speed: 5.5ms preprocess, 77.8ms inference, 0.0ms postprocess per image at shape (1, 3, 640, 640)\n",
      "Processed glc197_jpg.rf.9a4905c28e400b6d6d2b389ef2e5728e.jpg and saved to Glaucoma\\test\\predictions\\pred_glc197_jpg.rf.9a4905c28e400b6d6d2b389ef2e5728e.jpg\n",
      "\n",
      "image 1/1 C:\\Users\\souri\\OneDrive\\Desktop\\HDA\\Glaucoma\\test\\images\\glc207_jpg.rf.e4331c947be76d77ae056c85c63ccd68.jpg: 640x640 3 disks, 77.3ms\n",
      "Speed: 3.8ms preprocess, 77.3ms inference, 2.0ms postprocess per image at shape (1, 3, 640, 640)\n",
      "Processed glc207_jpg.rf.e4331c947be76d77ae056c85c63ccd68.jpg and saved to Glaucoma\\test\\predictions\\pred_glc207_jpg.rf.e4331c947be76d77ae056c85c63ccd68.jpg\n",
      "\n",
      "image 1/1 C:\\Users\\souri\\OneDrive\\Desktop\\HDA\\Glaucoma\\test\\images\\glc214_jpg.rf.f38518a77cc7b4049aa5f1736c50a612.jpg: 640x640 3 disks, 79.1ms\n",
      "Speed: 3.5ms preprocess, 79.1ms inference, 0.0ms postprocess per image at shape (1, 3, 640, 640)\n",
      "Processed glc214_jpg.rf.f38518a77cc7b4049aa5f1736c50a612.jpg and saved to Glaucoma\\test\\predictions\\pred_glc214_jpg.rf.f38518a77cc7b4049aa5f1736c50a612.jpg\n",
      "\n",
      "image 1/1 C:\\Users\\souri\\OneDrive\\Desktop\\HDA\\Glaucoma\\test\\images\\glc222_jpg.rf.5f882bc161dd3de0fb505c3541428528.jpg: 640x640 3 disks, 80.1ms\n",
      "Speed: 4.0ms preprocess, 80.1ms inference, 0.0ms postprocess per image at shape (1, 3, 640, 640)\n",
      "Processed glc222_jpg.rf.5f882bc161dd3de0fb505c3541428528.jpg and saved to Glaucoma\\test\\predictions\\pred_glc222_jpg.rf.5f882bc161dd3de0fb505c3541428528.jpg\n",
      "\n",
      "image 1/1 C:\\Users\\souri\\OneDrive\\Desktop\\HDA\\Glaucoma\\test\\images\\glc241_jpg.rf.c87154c22c5bda1c339f84e427bc993b.jpg: 640x640 4 disks, 79.5ms\n",
      "Speed: 4.0ms preprocess, 79.5ms inference, 2.0ms postprocess per image at shape (1, 3, 640, 640)\n",
      "Processed glc241_jpg.rf.c87154c22c5bda1c339f84e427bc993b.jpg and saved to Glaucoma\\test\\predictions\\pred_glc241_jpg.rf.c87154c22c5bda1c339f84e427bc993b.jpg\n",
      "\n",
      "image 1/1 C:\\Users\\souri\\OneDrive\\Desktop\\HDA\\Glaucoma\\test\\images\\glc250_jpg.rf.5c3a63520a6dd5603eaa6e3bbdb22ff5.jpg: 640x640 1 disk, 77.7ms\n",
      "Speed: 3.8ms preprocess, 77.7ms inference, 1.8ms postprocess per image at shape (1, 3, 640, 640)\n",
      "Processed glc250_jpg.rf.5c3a63520a6dd5603eaa6e3bbdb22ff5.jpg and saved to Glaucoma\\test\\predictions\\pred_glc250_jpg.rf.5c3a63520a6dd5603eaa6e3bbdb22ff5.jpg\n",
      "\n",
      "image 1/1 C:\\Users\\souri\\OneDrive\\Desktop\\HDA\\Glaucoma\\test\\images\\glc25_jpg.rf.399cfb12e63fdfe6d7f4d14ccc530b50.jpg: 640x640 2 disks, 74.9ms\n",
      "Speed: 3.0ms preprocess, 74.9ms inference, 2.0ms postprocess per image at shape (1, 3, 640, 640)\n",
      "Processed glc25_jpg.rf.399cfb12e63fdfe6d7f4d14ccc530b50.jpg and saved to Glaucoma\\test\\predictions\\pred_glc25_jpg.rf.399cfb12e63fdfe6d7f4d14ccc530b50.jpg\n",
      "\n",
      "image 1/1 C:\\Users\\souri\\OneDrive\\Desktop\\HDA\\Glaucoma\\test\\images\\glc39_jpg.rf.680e46bc7b885b3d3f8fea2298eb8a1e.jpg: 640x640 4 disks, 75.1ms\n",
      "Speed: 4.0ms preprocess, 75.1ms inference, 0.0ms postprocess per image at shape (1, 3, 640, 640)\n",
      "Processed glc39_jpg.rf.680e46bc7b885b3d3f8fea2298eb8a1e.jpg and saved to Glaucoma\\test\\predictions\\pred_glc39_jpg.rf.680e46bc7b885b3d3f8fea2298eb8a1e.jpg\n",
      "\n",
      "image 1/1 C:\\Users\\souri\\OneDrive\\Desktop\\HDA\\Glaucoma\\test\\images\\glc43_jpg.rf.50dea8b9ad62a56b40ae4060fa9d57c9.jpg: 640x640 4 disks, 78.1ms\n",
      "Speed: 4.0ms preprocess, 78.1ms inference, 2.0ms postprocess per image at shape (1, 3, 640, 640)\n",
      "Processed glc43_jpg.rf.50dea8b9ad62a56b40ae4060fa9d57c9.jpg and saved to Glaucoma\\test\\predictions\\pred_glc43_jpg.rf.50dea8b9ad62a56b40ae4060fa9d57c9.jpg\n",
      "\n",
      "image 1/1 C:\\Users\\souri\\OneDrive\\Desktop\\HDA\\Glaucoma\\test\\images\\glc64_jpg.rf.b44ddbd81a707988a99231ed86ff8ec8.jpg: 640x640 2 disks, 80.7ms\n",
      "Speed: 2.0ms preprocess, 80.7ms inference, 0.0ms postprocess per image at shape (1, 3, 640, 640)\n",
      "Processed glc64_jpg.rf.b44ddbd81a707988a99231ed86ff8ec8.jpg and saved to Glaucoma\\test\\predictions\\pred_glc64_jpg.rf.b44ddbd81a707988a99231ed86ff8ec8.jpg\n",
      "\n",
      "image 1/1 C:\\Users\\souri\\OneDrive\\Desktop\\HDA\\Glaucoma\\test\\images\\glc67_jpg.rf.7e3e2ee58658764f5ed58569128b3364.jpg: 640x640 2 disks, 73.8ms\n",
      "Speed: 4.0ms preprocess, 73.8ms inference, 0.0ms postprocess per image at shape (1, 3, 640, 640)\n",
      "Processed glc67_jpg.rf.7e3e2ee58658764f5ed58569128b3364.jpg and saved to Glaucoma\\test\\predictions\\pred_glc67_jpg.rf.7e3e2ee58658764f5ed58569128b3364.jpg\n"
     ]
    }
   ],
   "source": [
    "from ultralytics import YOLO\n",
    "import cv2\n",
    "import os\n",
    "\n",
    "# Load the trained model\n",
    "model = YOLO('C:\\\\Users\\\\souri\\\\OneDrive\\\\Desktop\\\\HDA\\\\YOLOv8_Fundus\\\\disk_detection3\\\\weights\\\\best.pt')\n",
    "\n",
    "\n",
    "# Define the directory containing test images\n",
    "test_images_dir = r'Glaucoma\\test\\images'\n",
    "output_dir = r'Glaucoma\\test\\predictions'  # Directory to save predictions\n",
    "os.makedirs(output_dir, exist_ok=True)\n",
    "\n",
    "# Iterate through test images and perform inference\n",
    "for image_name in os.listdir(test_images_dir):\n",
    "    image_path = os.path.join(test_images_dir, image_name)\n",
    "    \n",
    "    # Run inference\n",
    "    results = model(image_path)\n",
    "    \n",
    "    # Draw bounding boxes on the image\n",
    "    img = cv2.imread(image_path)\n",
    "    for result in results[0].boxes:\n",
    "        x1, y1, x2, y2 = map(int, result.xyxy[0])  # Bounding box coordinates\n",
    "        class_id = int(result.cls[0])  # Class ID\n",
    "        confidence = float(result.conf[0])  # Confidence score\n",
    "        \n",
    "        # Draw the bounding box and label on the image\n",
    "        label = f\"{class_id} {confidence:.2f}\"\n",
    "        cv2.rectangle(img, (x1, y1), (x2, y2), (0, 255, 0), 2)\n",
    "        cv2.putText(img, label, (x1, y1 - 10), cv2.FONT_HERSHEY_SIMPLEX, 0.5, (0, 255, 0), 2)\n",
    "    \n",
    "    # Save the annotated image to the output directory\n",
    "    output_path = os.path.join(output_dir, f\"pred_{image_name}\")\n",
    "    cv2.imwrite(output_path, img)\n",
    "    \n",
    "    print(f\"Processed {image_name} and saved to {output_path}\")\n"
   ]
  }
 ],
 "metadata": {
  "kernelspec": {
   "display_name": "Python 3 (ipykernel)",
   "language": "python",
   "name": "python3"
  },
  "language_info": {
   "codemirror_mode": {
    "name": "ipython",
    "version": 3
   },
   "file_extension": ".py",
   "mimetype": "text/x-python",
   "name": "python",
   "nbconvert_exporter": "python",
   "pygments_lexer": "ipython3",
   "version": "3.10.15"
  }
 },
 "nbformat": 4,
 "nbformat_minor": 5
}
