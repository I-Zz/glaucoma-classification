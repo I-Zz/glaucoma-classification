{
 "cells": [
  {
   "cell_type": "code",
   "execution_count": 1,
   "id": "c0111752",
   "metadata": {
    "execution": {
     "iopub.execute_input": "2024-11-02T11:12:20.553863Z",
     "iopub.status.busy": "2024-11-02T11:12:20.553554Z",
     "iopub.status.idle": "2024-11-02T11:12:21.285271Z",
     "shell.execute_reply": "2024-11-02T11:12:21.283894Z"
    },
    "papermill": {
     "duration": 0.740623,
     "end_time": "2024-11-02T11:12:21.287384",
     "exception": false,
     "start_time": "2024-11-02T11:12:20.546761",
     "status": "completed"
    },
    "tags": []
   },
   "outputs": [
    {
     "name": "stdout",
     "output_type": "stream",
     "text": [
      "Count of rows with Final Label == 1: 2623\n",
      "Count of rows with Final Label == 0: 5110\n"
     ]
    }
   ],
   "source": [
    "import pandas as pd\n",
    "import numpy as np\n",
    "\n",
    "# Load the dataset\n",
    "df = pd.read_csv('/kaggle/input/roi-images-hda/masks_csvs/glaucoma_masks_train.csv')\n",
    "\n",
    "# Count rows where 'Final Label' is 1 and 0\n",
    "count_label_1 = len(df[df['Final Label'] == 1])\n",
    "count_label_0 = len(df[df['Final Label'] == 0])\n",
    "\n",
    "print(f\"Count of rows with Final Label == 1: {count_label_1}\")\n",
    "print(f\"Count of rows with Final Label == 0: {count_label_0}\")\n"
   ]
  },
  {
   "cell_type": "code",
   "execution_count": 2,
   "id": "f5dce534",
   "metadata": {
    "execution": {
     "iopub.execute_input": "2024-11-02T11:12:21.299258Z",
     "iopub.status.busy": "2024-11-02T11:12:21.298693Z",
     "iopub.status.idle": "2024-11-02T11:12:26.089661Z",
     "shell.execute_reply": "2024-11-02T11:12:26.088605Z"
    },
    "papermill": {
     "duration": 4.799481,
     "end_time": "2024-11-02T11:12:26.092066",
     "exception": false,
     "start_time": "2024-11-02T11:12:21.292585",
     "status": "completed"
    },
    "tags": []
   },
   "outputs": [],
   "source": [
    "import os\n",
    "from PIL import Image\n",
    "import torch\n",
    "from torch.utils.data import Dataset\n",
    "from torchvision import transforms\n",
    "from torchvision.transforms import autoaugment\n",
    "\n",
    "def train_transform():\n",
    "    return transforms.Compose([\n",
    "        transforms.Resize((384, 384), interpolation=transforms.InterpolationMode.BICUBIC),\n",
    "        autoaugment.AutoAugment(autoaugment.AutoAugmentPolicy.IMAGENET),\n",
    "        transforms.ToTensor(),\n",
    "        transforms.Normalize(mean=[0.485, 0.456, 0.406], std=[0.229, 0.224, 0.225]),\n",
    "    ])\n",
    "\n",
    "def test_transform():\n",
    "    return transforms.Compose([\n",
    "        transforms.Resize((384, 384), interpolation=transforms.InterpolationMode.BICUBIC),\n",
    "        transforms.ToTensor(),\n",
    "        transforms.Normalize(mean=[0.485, 0.456, 0.406], std=[0.229, 0.224, 0.225]),\n",
    "    ])\n",
    "\n",
    "class GlaucomaDataset(Dataset):\n",
    "    \"\"\"\n",
    "    Args:\n",
    "        dataframe (DataFrame): DataFrame containing the dataset information.\n",
    "        img_folder (string): Directory with all the images.\n",
    "        transform (callable, optional): Optional transform to be applied on a sample.\n",
    "        extra_features (list of str, optional): Column names for the extra features.\n",
    "    \"\"\"\n",
    "    def __init__(self, dataframe, img_folder, transform=None, extra_features=None):\n",
    "        self.dataframe = dataframe\n",
    "        self.img_folder = img_folder\n",
    "        self.transform = transform\n",
    "        self.extra_features = extra_features\n",
    "        \n",
    "    def __len__(self):\n",
    "        return len(self.dataframe)\n",
    "\n",
    "    def __getitem__(self, idx):\n",
    "        img_id = self.dataframe.iloc[idx]['Eye ID']\n",
    "        for ext in ['.JPG','.JPEG', '.PNG', '.png', '.jpg', '.jpeg']:\n",
    "            img_path = os.path.join(self.img_folder, f\"{img_id}{ext}\")\n",
    "            if os.path.exists(img_path):\n",
    "                break\n",
    "        else:\n",
    "            raise FileNotFoundError(f\"No image found for ID {img_id} with any supported extension.\")\n",
    "\n",
    "        image = Image.open(img_path)\n",
    "        if self.transform:\n",
    "            image = self.transform(image)\n",
    "\n",
    "        # Handling extra features \n",
    "        if self.extra_features == None :\n",
    "            img_class = self.dataframe.iloc[idx]['Final Label']\n",
    "            labels = torch.tensor(img_class, dtype=torch.float32)\n",
    "        else:           \n",
    "            extra_labels = self.dataframe.iloc[idx][self.extra_features].values.astype(float)\n",
    "            labels = torch.tensor(extra_labels, dtype=torch.float32)\n",
    "        \n",
    "        return image, labels"
   ]
  },
  {
   "cell_type": "code",
   "execution_count": 3,
   "id": "ef623027",
   "metadata": {
    "execution": {
     "iopub.execute_input": "2024-11-02T11:12:26.103904Z",
     "iopub.status.busy": "2024-11-02T11:12:26.103472Z",
     "iopub.status.idle": "2024-11-02T11:12:26.126544Z",
     "shell.execute_reply": "2024-11-02T11:12:26.125403Z"
    },
    "papermill": {
     "duration": 0.031246,
     "end_time": "2024-11-02T11:12:26.128630",
     "exception": false,
     "start_time": "2024-11-02T11:12:26.097384",
     "status": "completed"
    },
    "tags": []
   },
   "outputs": [
    {
     "name": "stdout",
     "output_type": "stream",
     "text": [
      "(518, 518)\n"
     ]
    }
   ],
   "source": [
    "from PIL import Image\n",
    "image = Image.open('/kaggle/input/roi-images-hda/ROI_images/TRAIN000054.JPG')\n",
    "print(image.size)"
   ]
  },
  {
   "cell_type": "code",
   "execution_count": 4,
   "id": "616e0ec6",
   "metadata": {
    "execution": {
     "iopub.execute_input": "2024-11-02T11:12:26.140682Z",
     "iopub.status.busy": "2024-11-02T11:12:26.140322Z",
     "iopub.status.idle": "2024-11-02T14:41:40.305009Z",
     "shell.execute_reply": "2024-11-02T14:41:40.303797Z"
    },
    "papermill": {
     "duration": 12557.997527,
     "end_time": "2024-11-02T14:41:44.131478",
     "exception": false,
     "start_time": "2024-11-02T11:12:26.133951",
     "status": "completed"
    },
    "tags": []
   },
   "outputs": [
    {
     "name": "stderr",
     "output_type": "stream",
     "text": [
      "/opt/conda/lib/python3.10/site-packages/torch/utils/data/dataloader.py:557: UserWarning: This DataLoader will create 8 worker processes in total. Our suggested max number of worker in current system is 4, which is smaller than what this DataLoader is going to create. Please be aware that excessive worker creation might get DataLoader running slow or even freeze, lower the worker number to avoid potential slowness/freeze if necessary.\n",
      "  warnings.warn(_create_warning_msg(\n",
      "Downloading: \"https://download.pytorch.org/models/vit_b_16_swag-9ac1b537.pth\" to /root/.cache/torch/hub/checkpoints/vit_b_16_swag-9ac1b537.pth\n",
      "100%|██████████| 331M/331M [00:01<00:00, 220MB/s]\n"
     ]
    },
    {
     "name": "stdout",
     "output_type": "stream",
     "text": [
      "No saved model found, starting training from scratch\n"
     ]
    },
    {
     "name": "stderr",
     "output_type": "stream",
     "text": [
      "/tmp/ipykernel_23/1785673129.py:107: FutureWarning: `torch.cuda.amp.GradScaler(args...)` is deprecated. Please use `torch.amp.GradScaler('cuda', args...)` instead.\n",
      "  scaler = GradScaler()\n",
      "Epoch 1:   0%|          | 0/310 [00:00<?, ?it/s]/tmp/ipykernel_23/1785673129.py:121: FutureWarning: `torch.cuda.amp.autocast(args...)` is deprecated. Please use `torch.amp.autocast('cuda', args...)` instead.\n",
      "  with autocast():\n",
      "Epoch 1: 100%|██████████| 310/310 [02:39<00:00,  1.95it/s, train_loss=0.722]\n",
      "Epoch 2: 100%|██████████| 310/310 [02:38<00:00,  1.95it/s, train_loss=0.724]\n",
      "Epoch 3: 100%|██████████| 310/310 [02:38<00:00,  1.95it/s, train_loss=0.391]\n",
      "Epoch 4: 100%|██████████| 310/310 [02:38<00:00,  1.95it/s, train_loss=0.774]\n",
      "Epoch 5: 100%|██████████| 310/310 [02:38<00:00,  1.95it/s, train_loss=0.489]\n",
      "/tmp/ipykernel_23/1785673129.py:150: FutureWarning: `torch.cuda.amp.autocast(args...)` is deprecated. Please use `torch.amp.autocast('cuda', args...)` instead.\n",
      "  with autocast():\n"
     ]
    },
    {
     "name": "stdout",
     "output_type": "stream",
     "text": [
      "Validation AUC after epoch 5: 0.8608821923709709\n",
      "Validation F1 Score: 0.6967071057192376, Precision: 0.6432, Recall: 0.7599243856332704\n",
      "New best AUC: 0.8608821923709709\n",
      "Best model saved to /kaggle/working/best_model/ViT_RG_ROI_best.pth\n"
     ]
    },
    {
     "name": "stderr",
     "output_type": "stream",
     "text": [
      "/opt/conda/lib/python3.10/site-packages/torch/utils/data/dataloader.py:557: UserWarning: This DataLoader will create 8 worker processes in total. Our suggested max number of worker in current system is 4, which is smaller than what this DataLoader is going to create. Please be aware that excessive worker creation might get DataLoader running slow or even freeze, lower the worker number to avoid potential slowness/freeze if necessary.\n",
      "  warnings.warn(_create_warning_msg(\n",
      "Epoch 6:   0%|          | 0/310 [00:00<?, ?it/s]/tmp/ipykernel_23/1785673129.py:121: FutureWarning: `torch.cuda.amp.autocast(args...)` is deprecated. Please use `torch.amp.autocast('cuda', args...)` instead.\n",
      "  with autocast():\n",
      "Epoch 6: 100%|██████████| 310/310 [02:38<00:00,  1.95it/s, train_loss=0.381]\n",
      "Epoch 7: 100%|██████████| 310/310 [02:38<00:00,  1.95it/s, train_loss=0.355]\n",
      "Epoch 8: 100%|██████████| 310/310 [02:38<00:00,  1.95it/s, train_loss=0.36]\n",
      "Epoch 9: 100%|██████████| 310/310 [02:38<00:00,  1.95it/s, train_loss=0.358]\n",
      "Epoch 10: 100%|██████████| 310/310 [02:38<00:00,  1.95it/s, train_loss=0.638]\n"
     ]
    },
    {
     "name": "stdout",
     "output_type": "stream",
     "text": [
      "Model saved to /kaggle/working/model/ViT_RG_ROI/ViT_RG_ROI_epoch_10.pth after epoch 10\n"
     ]
    },
    {
     "name": "stderr",
     "output_type": "stream",
     "text": [
      "/tmp/ipykernel_23/1785673129.py:150: FutureWarning: `torch.cuda.amp.autocast(args...)` is deprecated. Please use `torch.amp.autocast('cuda', args...)` instead.\n",
      "  with autocast():\n"
     ]
    },
    {
     "name": "stdout",
     "output_type": "stream",
     "text": [
      "Validation AUC after epoch 10: 0.8795258132443985\n",
      "Validation F1 Score: 0.7057864710676447, Precision: 0.6203438395415473, Recall: 0.8185255198487713\n",
      "New best AUC: 0.8795258132443985\n",
      "Best model saved to /kaggle/working/best_model/ViT_RG_ROI_best.pth\n"
     ]
    },
    {
     "name": "stderr",
     "output_type": "stream",
     "text": [
      "/opt/conda/lib/python3.10/site-packages/torch/utils/data/dataloader.py:557: UserWarning: This DataLoader will create 8 worker processes in total. Our suggested max number of worker in current system is 4, which is smaller than what this DataLoader is going to create. Please be aware that excessive worker creation might get DataLoader running slow or even freeze, lower the worker number to avoid potential slowness/freeze if necessary.\n",
      "  warnings.warn(_create_warning_msg(\n",
      "Epoch 11:   0%|          | 0/310 [00:00<?, ?it/s]/tmp/ipykernel_23/1785673129.py:121: FutureWarning: `torch.cuda.amp.autocast(args...)` is deprecated. Please use `torch.amp.autocast('cuda', args...)` instead.\n",
      "  with autocast():\n",
      "Epoch 11: 100%|██████████| 310/310 [02:38<00:00,  1.95it/s, train_loss=0.64]\n",
      "Epoch 12: 100%|██████████| 310/310 [02:38<00:00,  1.95it/s, train_loss=0.188]\n",
      "Epoch 13: 100%|██████████| 310/310 [02:38<00:00,  1.95it/s, train_loss=0.727]\n",
      "Epoch 14: 100%|██████████| 310/310 [02:38<00:00,  1.95it/s, train_loss=0.212]\n",
      "Epoch 15: 100%|██████████| 310/310 [02:38<00:00,  1.95it/s, train_loss=0.711]\n",
      "/tmp/ipykernel_23/1785673129.py:150: FutureWarning: `torch.cuda.amp.autocast(args...)` is deprecated. Please use `torch.amp.autocast('cuda', args...)` instead.\n",
      "  with autocast():\n"
     ]
    },
    {
     "name": "stdout",
     "output_type": "stream",
     "text": [
      "Validation AUC after epoch 15: 0.8902393959763947\n",
      "Validation F1 Score: 0.7493403693931399, Precision: 0.7006578947368421, Recall: 0.8052930056710775\n",
      "New best AUC: 0.8902393959763947\n",
      "Best model saved to /kaggle/working/best_model/ViT_RG_ROI_best.pth\n"
     ]
    },
    {
     "name": "stderr",
     "output_type": "stream",
     "text": [
      "/opt/conda/lib/python3.10/site-packages/torch/utils/data/dataloader.py:557: UserWarning: This DataLoader will create 8 worker processes in total. Our suggested max number of worker in current system is 4, which is smaller than what this DataLoader is going to create. Please be aware that excessive worker creation might get DataLoader running slow or even freeze, lower the worker number to avoid potential slowness/freeze if necessary.\n",
      "  warnings.warn(_create_warning_msg(\n",
      "Epoch 16:   0%|          | 0/310 [00:00<?, ?it/s]/tmp/ipykernel_23/1785673129.py:121: FutureWarning: `torch.cuda.amp.autocast(args...)` is deprecated. Please use `torch.amp.autocast('cuda', args...)` instead.\n",
      "  with autocast():\n",
      "Epoch 16: 100%|██████████| 310/310 [02:38<00:00,  1.95it/s, train_loss=0.448]\n",
      "Epoch 17: 100%|██████████| 310/310 [02:38<00:00,  1.95it/s, train_loss=0.341]\n",
      "Epoch 18: 100%|██████████| 310/310 [02:38<00:00,  1.95it/s, train_loss=0.355]\n",
      "Epoch 19: 100%|██████████| 310/310 [02:38<00:00,  1.95it/s, train_loss=1.14]\n",
      "Epoch 20: 100%|██████████| 310/310 [02:38<00:00,  1.95it/s, train_loss=0.422]\n"
     ]
    },
    {
     "name": "stdout",
     "output_type": "stream",
     "text": [
      "Model saved to /kaggle/working/model/ViT_RG_ROI/ViT_RG_ROI_epoch_20.pth after epoch 20\n"
     ]
    },
    {
     "name": "stderr",
     "output_type": "stream",
     "text": [
      "/tmp/ipykernel_23/1785673129.py:150: FutureWarning: `torch.cuda.amp.autocast(args...)` is deprecated. Please use `torch.amp.autocast('cuda', args...)` instead.\n",
      "  with autocast():\n"
     ]
    },
    {
     "name": "stdout",
     "output_type": "stream",
     "text": [
      "Validation AUC after epoch 20: 0.8927768967655916\n",
      "Validation F1 Score: 0.7419072615923009, Precision: 0.6905537459283387, Recall: 0.8015122873345936\n",
      "New best AUC: 0.8927768967655916\n",
      "Best model saved to /kaggle/working/best_model/ViT_RG_ROI_best.pth\n"
     ]
    },
    {
     "name": "stderr",
     "output_type": "stream",
     "text": [
      "/opt/conda/lib/python3.10/site-packages/torch/utils/data/dataloader.py:557: UserWarning: This DataLoader will create 8 worker processes in total. Our suggested max number of worker in current system is 4, which is smaller than what this DataLoader is going to create. Please be aware that excessive worker creation might get DataLoader running slow or even freeze, lower the worker number to avoid potential slowness/freeze if necessary.\n",
      "  warnings.warn(_create_warning_msg(\n",
      "Epoch 21:   0%|          | 0/310 [00:00<?, ?it/s]/tmp/ipykernel_23/1785673129.py:121: FutureWarning: `torch.cuda.amp.autocast(args...)` is deprecated. Please use `torch.amp.autocast('cuda', args...)` instead.\n",
      "  with autocast():\n",
      "Epoch 21: 100%|██████████| 310/310 [02:38<00:00,  1.95it/s, train_loss=0.224]\n",
      "Epoch 22: 100%|██████████| 310/310 [02:38<00:00,  1.95it/s, train_loss=0.42]\n",
      "Epoch 23: 100%|██████████| 310/310 [02:39<00:00,  1.95it/s, train_loss=0.545]\n",
      "Epoch 24: 100%|██████████| 310/310 [02:38<00:00,  1.95it/s, train_loss=0.606]\n",
      "Epoch 25: 100%|██████████| 310/310 [02:38<00:00,  1.95it/s, train_loss=0.611]\n",
      "/tmp/ipykernel_23/1785673129.py:150: FutureWarning: `torch.cuda.amp.autocast(args...)` is deprecated. Please use `torch.amp.autocast('cuda', args...)` instead.\n",
      "  with autocast():\n"
     ]
    },
    {
     "name": "stdout",
     "output_type": "stream",
     "text": [
      "Validation AUC after epoch 25: 0.8922606690163075\n",
      "Validation F1 Score: 0.7484662576687116, Precision: 0.6977124183006536, Recall: 0.8071833648393195\n",
      "No improvement for 1 validation checks.\n"
     ]
    },
    {
     "name": "stderr",
     "output_type": "stream",
     "text": [
      "/opt/conda/lib/python3.10/site-packages/torch/utils/data/dataloader.py:557: UserWarning: This DataLoader will create 8 worker processes in total. Our suggested max number of worker in current system is 4, which is smaller than what this DataLoader is going to create. Please be aware that excessive worker creation might get DataLoader running slow or even freeze, lower the worker number to avoid potential slowness/freeze if necessary.\n",
      "  warnings.warn(_create_warning_msg(\n",
      "Epoch 26:   0%|          | 0/310 [00:00<?, ?it/s]/tmp/ipykernel_23/1785673129.py:121: FutureWarning: `torch.cuda.amp.autocast(args...)` is deprecated. Please use `torch.amp.autocast('cuda', args...)` instead.\n",
      "  with autocast():\n",
      "Epoch 26: 100%|██████████| 310/310 [02:39<00:00,  1.95it/s, train_loss=0.412]\n",
      "Epoch 27: 100%|██████████| 310/310 [02:39<00:00,  1.95it/s, train_loss=1]\n",
      "Epoch 28: 100%|██████████| 310/310 [02:38<00:00,  1.95it/s, train_loss=0.562]\n",
      "Epoch 29: 100%|██████████| 310/310 [02:39<00:00,  1.95it/s, train_loss=0.624]\n",
      "Epoch 30: 100%|██████████| 310/310 [02:38<00:00,  1.95it/s, train_loss=0.738]\n"
     ]
    },
    {
     "name": "stdout",
     "output_type": "stream",
     "text": [
      "Model saved to /kaggle/working/model/ViT_RG_ROI/ViT_RG_ROI_epoch_30.pth after epoch 30\n"
     ]
    },
    {
     "name": "stderr",
     "output_type": "stream",
     "text": [
      "/tmp/ipykernel_23/1785673129.py:150: FutureWarning: `torch.cuda.amp.autocast(args...)` is deprecated. Please use `torch.amp.autocast('cuda', args...)` instead.\n",
      "  with autocast():\n"
     ]
    },
    {
     "name": "stdout",
     "output_type": "stream",
     "text": [
      "Validation AUC after epoch 30: 0.8980208793698308\n",
      "Validation F1 Score: 0.7472150814053127, Precision: 0.6833855799373041, Recall: 0.8241965973534972\n",
      "New best AUC: 0.8980208793698308\n",
      "Best model saved to /kaggle/working/best_model/ViT_RG_ROI_best.pth\n"
     ]
    },
    {
     "name": "stderr",
     "output_type": "stream",
     "text": [
      "/opt/conda/lib/python3.10/site-packages/torch/utils/data/dataloader.py:557: UserWarning: This DataLoader will create 8 worker processes in total. Our suggested max number of worker in current system is 4, which is smaller than what this DataLoader is going to create. Please be aware that excessive worker creation might get DataLoader running slow or even freeze, lower the worker number to avoid potential slowness/freeze if necessary.\n",
      "  warnings.warn(_create_warning_msg(\n",
      "Epoch 31:   0%|          | 0/310 [00:00<?, ?it/s]/tmp/ipykernel_23/1785673129.py:121: FutureWarning: `torch.cuda.amp.autocast(args...)` is deprecated. Please use `torch.amp.autocast('cuda', args...)` instead.\n",
      "  with autocast():\n",
      "Epoch 31: 100%|██████████| 310/310 [02:38<00:00,  1.95it/s, train_loss=0.66]\n",
      "Epoch 32: 100%|██████████| 310/310 [02:38<00:00,  1.95it/s, train_loss=0.702]\n",
      "Epoch 33: 100%|██████████| 310/310 [02:38<00:00,  1.95it/s, train_loss=0.591]\n",
      "Epoch 34: 100%|██████████| 310/310 [02:39<00:00,  1.95it/s, train_loss=0.336]\n",
      "Epoch 35: 100%|██████████| 310/310 [02:38<00:00,  1.95it/s, train_loss=1.17]\n",
      "/tmp/ipykernel_23/1785673129.py:150: FutureWarning: `torch.cuda.amp.autocast(args...)` is deprecated. Please use `torch.amp.autocast('cuda', args...)` instead.\n",
      "  with autocast():\n"
     ]
    },
    {
     "name": "stdout",
     "output_type": "stream",
     "text": [
      "Validation AUC after epoch 35: 0.8994330779429623\n",
      "Validation F1 Score: 0.7491039426523298, Precision: 0.7120954003407155, Recall: 0.7901701323251418\n",
      "New best AUC: 0.8994330779429623\n",
      "Best model saved to /kaggle/working/best_model/ViT_RG_ROI_best.pth\n"
     ]
    },
    {
     "name": "stderr",
     "output_type": "stream",
     "text": [
      "/opt/conda/lib/python3.10/site-packages/torch/utils/data/dataloader.py:557: UserWarning: This DataLoader will create 8 worker processes in total. Our suggested max number of worker in current system is 4, which is smaller than what this DataLoader is going to create. Please be aware that excessive worker creation might get DataLoader running slow or even freeze, lower the worker number to avoid potential slowness/freeze if necessary.\n",
      "  warnings.warn(_create_warning_msg(\n",
      "Epoch 36:   0%|          | 0/310 [00:00<?, ?it/s]/tmp/ipykernel_23/1785673129.py:121: FutureWarning: `torch.cuda.amp.autocast(args...)` is deprecated. Please use `torch.amp.autocast('cuda', args...)` instead.\n",
      "  with autocast():\n",
      "Epoch 36: 100%|██████████| 310/310 [02:39<00:00,  1.95it/s, train_loss=0.384]\n",
      "Epoch 37: 100%|██████████| 310/310 [02:38<00:00,  1.95it/s, train_loss=0.765]\n",
      "Epoch 38: 100%|██████████| 310/310 [02:38<00:00,  1.95it/s, train_loss=1.28]\n",
      "Epoch 39: 100%|██████████| 310/310 [02:38<00:00,  1.95it/s, train_loss=1.22]\n",
      "Epoch 40: 100%|██████████| 310/310 [02:38<00:00,  1.95it/s, train_loss=0.871]\n"
     ]
    },
    {
     "name": "stdout",
     "output_type": "stream",
     "text": [
      "Model saved to /kaggle/working/model/ViT_RG_ROI/ViT_RG_ROI_epoch_40.pth after epoch 40\n"
     ]
    },
    {
     "name": "stderr",
     "output_type": "stream",
     "text": [
      "/tmp/ipykernel_23/1785673129.py:150: FutureWarning: `torch.cuda.amp.autocast(args...)` is deprecated. Please use `torch.amp.autocast('cuda', args...)` instead.\n",
      "  with autocast():\n"
     ]
    },
    {
     "name": "stdout",
     "output_type": "stream",
     "text": [
      "Validation AUC after epoch 40: 0.9029881787559283\n",
      "Validation F1 Score: 0.764102564102564, Precision: 0.6973478939157566, Recall: 0.8449905482041588\n",
      "New best AUC: 0.9029881787559283\n",
      "Best model saved to /kaggle/working/best_model/ViT_RG_ROI_best.pth\n"
     ]
    },
    {
     "name": "stderr",
     "output_type": "stream",
     "text": [
      "/opt/conda/lib/python3.10/site-packages/torch/utils/data/dataloader.py:557: UserWarning: This DataLoader will create 8 worker processes in total. Our suggested max number of worker in current system is 4, which is smaller than what this DataLoader is going to create. Please be aware that excessive worker creation might get DataLoader running slow or even freeze, lower the worker number to avoid potential slowness/freeze if necessary.\n",
      "  warnings.warn(_create_warning_msg(\n",
      "Epoch 41:   0%|          | 0/310 [00:00<?, ?it/s]/tmp/ipykernel_23/1785673129.py:121: FutureWarning: `torch.cuda.amp.autocast(args...)` is deprecated. Please use `torch.amp.autocast('cuda', args...)` instead.\n",
      "  with autocast():\n",
      "Epoch 41: 100%|██████████| 310/310 [02:39<00:00,  1.95it/s, train_loss=0.422]\n",
      "Epoch 42: 100%|██████████| 310/310 [02:38<00:00,  1.95it/s, train_loss=0.541]\n",
      "Epoch 43: 100%|██████████| 310/310 [02:38<00:00,  1.95it/s, train_loss=0.164]\n",
      "Epoch 44: 100%|██████████| 310/310 [02:38<00:00,  1.95it/s, train_loss=0.606]\n",
      "Epoch 45: 100%|██████████| 310/310 [02:38<00:00,  1.95it/s, train_loss=0.246]\n",
      "/tmp/ipykernel_23/1785673129.py:150: FutureWarning: `torch.cuda.amp.autocast(args...)` is deprecated. Please use `torch.amp.autocast('cuda', args...)` instead.\n",
      "  with autocast():\n"
     ]
    },
    {
     "name": "stdout",
     "output_type": "stream",
     "text": [
      "Validation AUC after epoch 45: 0.896676458900472\n",
      "Validation F1 Score: 0.7482638888888888, Precision: 0.6918138041733547, Recall: 0.8147448015122873\n",
      "No improvement for 1 validation checks.\n"
     ]
    },
    {
     "name": "stderr",
     "output_type": "stream",
     "text": [
      "/opt/conda/lib/python3.10/site-packages/torch/utils/data/dataloader.py:557: UserWarning: This DataLoader will create 8 worker processes in total. Our suggested max number of worker in current system is 4, which is smaller than what this DataLoader is going to create. Please be aware that excessive worker creation might get DataLoader running slow or even freeze, lower the worker number to avoid potential slowness/freeze if necessary.\n",
      "  warnings.warn(_create_warning_msg(\n",
      "Epoch 46:   0%|          | 0/310 [00:00<?, ?it/s]/tmp/ipykernel_23/1785673129.py:121: FutureWarning: `torch.cuda.amp.autocast(args...)` is deprecated. Please use `torch.amp.autocast('cuda', args...)` instead.\n",
      "  with autocast():\n",
      "Epoch 46: 100%|██████████| 310/310 [02:38<00:00,  1.95it/s, train_loss=0.207]\n",
      "Epoch 47: 100%|██████████| 310/310 [02:38<00:00,  1.95it/s, train_loss=1.34]\n",
      "Epoch 48: 100%|██████████| 310/310 [02:38<00:00,  1.95it/s, train_loss=0.284]\n",
      "Epoch 49: 100%|██████████| 310/310 [02:38<00:00,  1.95it/s, train_loss=0.467]\n",
      "Epoch 50: 100%|██████████| 310/310 [02:38<00:00,  1.95it/s, train_loss=0.448]\n"
     ]
    },
    {
     "name": "stdout",
     "output_type": "stream",
     "text": [
      "Model saved to /kaggle/working/model/ViT_RG_ROI/ViT_RG_ROI_epoch_50.pth after epoch 50\n"
     ]
    },
    {
     "name": "stderr",
     "output_type": "stream",
     "text": [
      "/tmp/ipykernel_23/1785673129.py:150: FutureWarning: `torch.cuda.amp.autocast(args...)` is deprecated. Please use `torch.amp.autocast('cuda', args...)` instead.\n",
      "  with autocast():\n"
     ]
    },
    {
     "name": "stdout",
     "output_type": "stream",
     "text": [
      "Validation AUC after epoch 50: 0.9108550811294618\n",
      "Validation F1 Score: 0.7734082397003746, Precision: 0.7662337662337663, Recall: 0.780718336483932\n",
      "New best AUC: 0.9108550811294618\n",
      "Best model saved to /kaggle/working/best_model/ViT_RG_ROI_best.pth\n"
     ]
    },
    {
     "name": "stderr",
     "output_type": "stream",
     "text": [
      "/opt/conda/lib/python3.10/site-packages/torch/utils/data/dataloader.py:557: UserWarning: This DataLoader will create 8 worker processes in total. Our suggested max number of worker in current system is 4, which is smaller than what this DataLoader is going to create. Please be aware that excessive worker creation might get DataLoader running slow or even freeze, lower the worker number to avoid potential slowness/freeze if necessary.\n",
      "  warnings.warn(_create_warning_msg(\n",
      "Epoch 51:   0%|          | 0/310 [00:00<?, ?it/s]/tmp/ipykernel_23/1785673129.py:121: FutureWarning: `torch.cuda.amp.autocast(args...)` is deprecated. Please use `torch.amp.autocast('cuda', args...)` instead.\n",
      "  with autocast():\n",
      "Epoch 51: 100%|██████████| 310/310 [02:39<00:00,  1.95it/s, train_loss=0.337]\n",
      "Epoch 52: 100%|██████████| 310/310 [02:38<00:00,  1.95it/s, train_loss=0.153]\n",
      "Epoch 53: 100%|██████████| 310/310 [02:38<00:00,  1.95it/s, train_loss=1.17]\n",
      "Epoch 54: 100%|██████████| 310/310 [02:39<00:00,  1.95it/s, train_loss=0.515]\n",
      "Epoch 55: 100%|██████████| 310/310 [02:38<00:00,  1.95it/s, train_loss=0.401]\n",
      "/tmp/ipykernel_23/1785673129.py:150: FutureWarning: `torch.cuda.amp.autocast(args...)` is deprecated. Please use `torch.amp.autocast('cuda', args...)` instead.\n",
      "  with autocast():\n"
     ]
    },
    {
     "name": "stdout",
     "output_type": "stream",
     "text": [
      "Validation AUC after epoch 55: 0.8939189113908068\n",
      "Validation F1 Score: 0.7517985611510791, Precision: 0.7169811320754716, Recall: 0.7901701323251418\n",
      "No improvement for 1 validation checks.\n"
     ]
    },
    {
     "name": "stderr",
     "output_type": "stream",
     "text": [
      "/opt/conda/lib/python3.10/site-packages/torch/utils/data/dataloader.py:557: UserWarning: This DataLoader will create 8 worker processes in total. Our suggested max number of worker in current system is 4, which is smaller than what this DataLoader is going to create. Please be aware that excessive worker creation might get DataLoader running slow or even freeze, lower the worker number to avoid potential slowness/freeze if necessary.\n",
      "  warnings.warn(_create_warning_msg(\n",
      "Epoch 56:   0%|          | 0/310 [00:00<?, ?it/s]/tmp/ipykernel_23/1785673129.py:121: FutureWarning: `torch.cuda.amp.autocast(args...)` is deprecated. Please use `torch.amp.autocast('cuda', args...)` instead.\n",
      "  with autocast():\n",
      "Epoch 56: 100%|██████████| 310/310 [02:39<00:00,  1.95it/s, train_loss=0.373]\n",
      "Epoch 57: 100%|██████████| 310/310 [02:39<00:00,  1.95it/s, train_loss=0.149]\n",
      "Epoch 58: 100%|██████████| 310/310 [02:38<00:00,  1.95it/s, train_loss=0.16]\n",
      "Epoch 59: 100%|██████████| 310/310 [02:38<00:00,  1.95it/s, train_loss=0.371]\n",
      "Epoch 60: 100%|██████████| 310/310 [02:38<00:00,  1.95it/s, train_loss=0.39]\n"
     ]
    },
    {
     "name": "stdout",
     "output_type": "stream",
     "text": [
      "Model saved to /kaggle/working/model/ViT_RG_ROI/ViT_RG_ROI_epoch_60.pth after epoch 60\n"
     ]
    },
    {
     "name": "stderr",
     "output_type": "stream",
     "text": [
      "/tmp/ipykernel_23/1785673129.py:150: FutureWarning: `torch.cuda.amp.autocast(args...)` is deprecated. Please use `torch.amp.autocast('cuda', args...)` instead.\n",
      "  with autocast():\n"
     ]
    },
    {
     "name": "stdout",
     "output_type": "stream",
     "text": [
      "Validation AUC after epoch 60: 0.8974498720572233\n",
      "Validation F1 Score: 0.7433016421780466, Precision: 0.6847133757961783, Recall: 0.8128544423440454\n",
      "No improvement for 2 validation checks.\n"
     ]
    },
    {
     "name": "stderr",
     "output_type": "stream",
     "text": [
      "/opt/conda/lib/python3.10/site-packages/torch/utils/data/dataloader.py:557: UserWarning: This DataLoader will create 8 worker processes in total. Our suggested max number of worker in current system is 4, which is smaller than what this DataLoader is going to create. Please be aware that excessive worker creation might get DataLoader running slow or even freeze, lower the worker number to avoid potential slowness/freeze if necessary.\n",
      "  warnings.warn(_create_warning_msg(\n",
      "Epoch 61:   0%|          | 0/310 [00:00<?, ?it/s]/tmp/ipykernel_23/1785673129.py:121: FutureWarning: `torch.cuda.amp.autocast(args...)` is deprecated. Please use `torch.amp.autocast('cuda', args...)` instead.\n",
      "  with autocast():\n",
      "Epoch 61: 100%|██████████| 310/310 [02:39<00:00,  1.95it/s, train_loss=0.714]\n",
      "Epoch 62: 100%|██████████| 310/310 [02:38<00:00,  1.95it/s, train_loss=0.295]\n",
      "Epoch 63: 100%|██████████| 310/310 [02:39<00:00,  1.95it/s, train_loss=0.954]\n",
      "Epoch 64: 100%|██████████| 310/310 [02:39<00:00,  1.95it/s, train_loss=0.236]\n",
      "Epoch 65: 100%|██████████| 310/310 [02:39<00:00,  1.95it/s, train_loss=0.282]\n",
      "/tmp/ipykernel_23/1785673129.py:150: FutureWarning: `torch.cuda.amp.autocast(args...)` is deprecated. Please use `torch.amp.autocast('cuda', args...)` instead.\n",
      "  with autocast():\n"
     ]
    },
    {
     "name": "stdout",
     "output_type": "stream",
     "text": [
      "Validation AUC after epoch 65: 0.9041144094391687\n",
      "Validation F1 Score: 0.7695004382120947, Precision: 0.7173202614379085, Recall: 0.8298676748582231\n",
      "No improvement for 3 validation checks.\n"
     ]
    },
    {
     "name": "stderr",
     "output_type": "stream",
     "text": [
      "/opt/conda/lib/python3.10/site-packages/torch/utils/data/dataloader.py:557: UserWarning: This DataLoader will create 8 worker processes in total. Our suggested max number of worker in current system is 4, which is smaller than what this DataLoader is going to create. Please be aware that excessive worker creation might get DataLoader running slow or even freeze, lower the worker number to avoid potential slowness/freeze if necessary.\n",
      "  warnings.warn(_create_warning_msg(\n",
      "Epoch 66:   0%|          | 0/310 [00:00<?, ?it/s]/tmp/ipykernel_23/1785673129.py:121: FutureWarning: `torch.cuda.amp.autocast(args...)` is deprecated. Please use `torch.amp.autocast('cuda', args...)` instead.\n",
      "  with autocast():\n",
      "Epoch 66: 100%|██████████| 310/310 [02:39<00:00,  1.95it/s, train_loss=0.195]\n",
      "Epoch 67: 100%|██████████| 310/310 [02:38<00:00,  1.95it/s, train_loss=1.16]\n",
      "Epoch 68: 100%|██████████| 310/310 [02:39<00:00,  1.95it/s, train_loss=0.347]\n",
      "Epoch 69: 100%|██████████| 310/310 [02:38<00:00,  1.95it/s, train_loss=0.205]\n",
      "Epoch 70: 100%|██████████| 310/310 [02:39<00:00,  1.95it/s, train_loss=1.35]\n"
     ]
    },
    {
     "name": "stdout",
     "output_type": "stream",
     "text": [
      "Model saved to /kaggle/working/model/ViT_RG_ROI/ViT_RG_ROI_epoch_70.pth after epoch 70\n"
     ]
    },
    {
     "name": "stderr",
     "output_type": "stream",
     "text": [
      "/tmp/ipykernel_23/1785673129.py:150: FutureWarning: `torch.cuda.amp.autocast(args...)` is deprecated. Please use `torch.amp.autocast('cuda', args...)` instead.\n",
      "  with autocast():\n"
     ]
    },
    {
     "name": "stdout",
     "output_type": "stream",
     "text": [
      "Validation AUC after epoch 70: 0.8997125465626288\n",
      "Validation F1 Score: 0.7675675675675676, Precision: 0.7332185886402753, Recall: 0.8052930056710775\n",
      "No improvement for 4 validation checks.\n"
     ]
    },
    {
     "name": "stderr",
     "output_type": "stream",
     "text": [
      "/opt/conda/lib/python3.10/site-packages/torch/utils/data/dataloader.py:557: UserWarning: This DataLoader will create 8 worker processes in total. Our suggested max number of worker in current system is 4, which is smaller than what this DataLoader is going to create. Please be aware that excessive worker creation might get DataLoader running slow or even freeze, lower the worker number to avoid potential slowness/freeze if necessary.\n",
      "  warnings.warn(_create_warning_msg(\n",
      "Epoch 71:   0%|          | 0/310 [00:00<?, ?it/s]/tmp/ipykernel_23/1785673129.py:121: FutureWarning: `torch.cuda.amp.autocast(args...)` is deprecated. Please use `torch.amp.autocast('cuda', args...)` instead.\n",
      "  with autocast():\n",
      "Epoch 71: 100%|██████████| 310/310 [02:39<00:00,  1.95it/s, train_loss=0.431]\n",
      "Epoch 72: 100%|██████████| 310/310 [02:38<00:00,  1.95it/s, train_loss=0.621]\n",
      "Epoch 73: 100%|██████████| 310/310 [02:38<00:00,  1.95it/s, train_loss=0.394]\n",
      "Epoch 74: 100%|██████████| 310/310 [02:38<00:00,  1.95it/s, train_loss=0.304]\n",
      "Epoch 75: 100%|██████████| 310/310 [02:38<00:00,  1.95it/s, train_loss=0.545]\n",
      "/tmp/ipykernel_23/1785673129.py:150: FutureWarning: `torch.cuda.amp.autocast(args...)` is deprecated. Please use `torch.amp.autocast('cuda', args...)` instead.\n",
      "  with autocast():\n"
     ]
    },
    {
     "name": "stdout",
     "output_type": "stream",
     "text": [
      "Validation AUC after epoch 75: 0.9032054400748716\n",
      "Validation F1 Score: 0.7590697674418606, Precision: 0.7472527472527473, Recall: 0.7712665406427222\n",
      "No improvement for 5 validation checks.\n",
      "Early stopping triggered. No improvement for 5 validation checks.\n"
     ]
    }
   ],
   "source": [
    "import os\n",
    "import re\n",
    "import pandas as pd\n",
    "import torch\n",
    "import torch.nn as nn\n",
    "import torch.optim\n",
    "from torch.utils.data import DataLoader, random_split\n",
    "from torchvision.models import vit_b_16, ViT_B_16_Weights\n",
    "from torch.cuda.amp import GradScaler, autocast\n",
    "from tqdm import tqdm\n",
    "from sklearn.metrics import precision_score, recall_score, f1_score, roc_auc_score\n",
    "\n",
    "################### Configuration ###################\n",
    "model_name = \"ViT_RG_ROI\"\n",
    "model_save_directory = f'/kaggle/working/model/{model_name}'\n",
    "img_folder = '/kaggle/input/roi-images-hda/ROI_images'\n",
    "train_df = pd.read_csv('/kaggle/input/roi-images-hda/masks_csvs/glaucoma_masks_train.csv')\n",
    "\n",
    "best_model_directory = os.path.join('/kaggle/working/', 'best_model')\n",
    "\n",
    "if not os.path.exists(best_model_directory):\n",
    "    os.makedirs(best_model_directory)\n",
    "\n",
    "# Hyperparameters for early stopping\n",
    "eval_every = 5  # Evaluate on validation set every 5 epochs\n",
    "patience = 5    # Early stopping patience\n",
    "num_epochs = 100  # Total training epochs\n",
    "\n",
    "# Check for or create save directory\n",
    "if not os.path.exists(model_save_directory):\n",
    "    os.makedirs(model_save_directory)\n",
    "\n",
    "################### Dataset and Dataloaders ###################\n",
    "# Initialize dataset with transformations\n",
    "train_dataset = GlaucomaDataset(dataframe=train_df, img_folder=img_folder, transform=train_transform(), extra_features=None)\n",
    "\n",
    "# Split train_dataset into training and validation sets\n",
    "train_size = int(0.8 * len(train_dataset))\n",
    "val_size = len(train_dataset) - train_size\n",
    "train_data, val_data = random_split(train_dataset, [train_size, val_size])\n",
    "\n",
    "# Dataloaders for training and validation\n",
    "train_loader = DataLoader(train_data, batch_size=20, shuffle=True, num_workers=8)\n",
    "val_loader = DataLoader(val_data, batch_size=20, shuffle=False, num_workers=8)\n",
    "\n",
    "################### Model Initialization ###################\n",
    "device = torch.device(\"cuda\" if torch.cuda.is_available() else \"cpu\")\n",
    "weights = ViT_B_16_Weights.IMAGENET1K_SWAG_E2E_V1\n",
    "model = vit_b_16(weights=weights)\n",
    "\n",
    "# Update the model's final layer for binary classification\n",
    "num_features = model.heads.head.in_features\n",
    "model.heads.head = nn.Linear(num_features, 1)\n",
    "\n",
    "# Freeze all layers except the classifier head\n",
    "for name, param in model.named_parameters():\n",
    "    if 'heads.head' not in name:\n",
    "        param.requires_grad = False\n",
    "\n",
    "if torch.cuda.device_count() > 1:\n",
    "    print(f\"Using {torch.cuda.device_count()} GPUs!\")\n",
    "    model = nn.DataParallel(model)\n",
    "\n",
    "model.to(device)\n",
    "\n",
    "################### Loss and Optimizer ###################\n",
    "# Compute class weights for weighted BCE loss\n",
    "negative_class = len(train_df[train_df['Final Label'] == 0])\n",
    "positive_class = len(train_df[train_df['Final Label'] == 1])\n",
    "pos_weight_value = negative_class / positive_class\n",
    "pos_weight_tensor = torch.tensor([pos_weight_value], dtype=torch.float, device=device)\n",
    "criterion = nn.BCEWithLogitsLoss(pos_weight=pos_weight_tensor)\n",
    "\n",
    "# Parameter groups for differential learning rates\n",
    "if torch.cuda.device_count() > 1:\n",
    "    base_params = [p for n, p in model.module.named_parameters() if 'heads.head' not in n]\n",
    "    classifier_params = model.module.heads.head.parameters()\n",
    "else:\n",
    "    base_params = [p for n, p in model.named_parameters() if 'heads.head' not in n]\n",
    "    classifier_params = model.heads.head.parameters()\n",
    "\n",
    "optimizer = torch.optim.AdamW([\n",
    "    {'params': base_params, 'lr': 1e-5, 'weight_decay': 1e-4},\n",
    "    {'params': classifier_params, 'lr': 1e-4, 'weight_decay': 1e-4}\n",
    "])\n",
    "\n",
    "################### Load Model Checkpoint (if exists) ###################\n",
    "latest_model_path = None\n",
    "start_epoch = 0\n",
    "\n",
    "for file in os.listdir(model_save_directory):\n",
    "    if file.startswith(f\"{model_name}_epoch_\") and file.endswith(\".pth\"):\n",
    "        epoch_num = int(re.findall(r\"\\d+\", file)[0])\n",
    "        if epoch_num > start_epoch:\n",
    "            start_epoch = epoch_num\n",
    "            latest_model_path = os.path.join(model_save_directory, file)\n",
    "            print(latest_model_path)\n",
    "\n",
    "if latest_model_path:\n",
    "    model.load_state_dict(torch.load(latest_model_path))\n",
    "    print(f\"Loaded model from {latest_model_path}, continuing training from epoch {start_epoch+1}\")\n",
    "else:\n",
    "    print(\"No saved model found, starting training from scratch\")\n",
    "\n",
    "\n",
    "################### Training Loop with Early Stopping ###################\n",
    "scaler = GradScaler()\n",
    "best_val_auc = 0  # Track best AUC score for early stopping\n",
    "epochs_no_improve = 0\n",
    "\n",
    "for epoch in range(start_epoch, num_epochs):\n",
    "    model.train()\n",
    "    train_loss = 0.0\n",
    "\n",
    "    progress_bar = tqdm(enumerate(train_loader), total=len(train_loader), desc=f\"Epoch {epoch + 1}\")\n",
    "    for batch_idx, (images, labels) in progress_bar:\n",
    "        images, labels = images.to(device), labels.to(device)\n",
    "        \n",
    "        optimizer.zero_grad()\n",
    "\n",
    "        with autocast():\n",
    "            outputs = model(images)\n",
    "            loss = criterion(outputs.squeeze(), labels.float())\n",
    "\n",
    "        scaler.scale(loss).backward()\n",
    "        scaler.step(optimizer)\n",
    "        scaler.update()\n",
    "\n",
    "        train_loss += loss.item() * images.size(0)\n",
    "        progress_bar.set_postfix({'train_loss': loss.item()})\n",
    "\n",
    "    train_loss /= len(train_loader.dataset)\n",
    "\n",
    "    # Save model after each epoch\n",
    "    if (epoch + 1) % 10 == 0:\n",
    "        epoch_save_path = os.path.join(model_save_directory, f\"{model_name}_epoch_{epoch + 1}.pth\")\n",
    "        torch.save(model.state_dict(), epoch_save_path)\n",
    "        print(f\"Model saved to {epoch_save_path} after epoch {epoch + 1}\")\n",
    "\n",
    "    # Validation and Early Stopping\n",
    "    if (epoch + 1) % eval_every == 0:\n",
    "        model.eval()\n",
    "        val_loss = 0.0\n",
    "        all_labels = []\n",
    "        all_preds = []\n",
    "\n",
    "        with torch.no_grad():\n",
    "            for images, labels in val_loader:\n",
    "                images, labels = images.to(device), labels.to(device)\n",
    "                with autocast():\n",
    "                    outputs = model(images)\n",
    "                    loss = criterion(outputs.squeeze(), labels.float())\n",
    "                \n",
    "                val_loss += loss.item() * images.size(0)\n",
    "                preds = torch.sigmoid(outputs).squeeze().cpu().numpy()\n",
    "                \n",
    "                all_labels.extend(labels.cpu().numpy())\n",
    "                all_preds.extend(preds)\n",
    "\n",
    "        val_loss /= len(val_loader.dataset)\n",
    "\n",
    "        # Calculate metrics\n",
    "        val_auc = roc_auc_score(all_labels, all_preds)\n",
    "        val_f1 = f1_score(all_labels, (np.array(all_preds) > 0.5).astype(int))\n",
    "        val_precision = precision_score(all_labels, (np.array(all_preds) > 0.5).astype(int))\n",
    "        val_recall = recall_score(all_labels, (np.array(all_preds) > 0.5).astype(int))\n",
    "\n",
    "        print(f\"Validation AUC after epoch {epoch + 1}: {val_auc}\")\n",
    "        print(f\"Validation F1 Score: {val_f1}, Precision: {val_precision}, Recall: {val_recall}\")\n",
    "\n",
    "        # Early stopping check\n",
    "        if val_auc > best_val_auc:\n",
    "            best_val_auc = val_auc\n",
    "            epochs_no_improve = 0\n",
    "            print(f\"New best AUC: {best_val_auc}\")\n",
    "            \n",
    "            best_model_path = os.path.join(best_model_directory, f\"{model_name}_best.pth\")\n",
    "            torch.save(model.state_dict(), best_model_path)\n",
    "            print(f\"Best model saved to {best_model_path}\")\n",
    "        else:\n",
    "            epochs_no_improve += 1\n",
    "            print(f\"No improvement for {epochs_no_improve} validation checks.\")\n",
    "\n",
    "        if epochs_no_improve >= patience:\n",
    "            print(f\"Early stopping triggered. No improvement for {patience} validation checks.\")\n",
    "            break\n"
   ]
  },
  {
   "cell_type": "code",
   "execution_count": null,
   "id": "4edf6421",
   "metadata": {
    "papermill": {
     "duration": 3.752241,
     "end_time": "2024-11-02T14:41:59.300846",
     "exception": false,
     "start_time": "2024-11-02T14:41:55.548605",
     "status": "completed"
    },
    "tags": []
   },
   "outputs": [],
   "source": []
  },
  {
   "cell_type": "code",
   "execution_count": null,
   "id": "438969f0",
   "metadata": {
    "papermill": {
     "duration": 3.807596,
     "end_time": "2024-11-02T14:42:06.879345",
     "exception": false,
     "start_time": "2024-11-02T14:42:03.071749",
     "status": "completed"
    },
    "tags": []
   },
   "outputs": [],
   "source": []
  },
  {
   "cell_type": "code",
   "execution_count": null,
   "id": "2b34d31e",
   "metadata": {
    "papermill": {
     "duration": 3.798168,
     "end_time": "2024-11-02T14:42:14.378954",
     "exception": false,
     "start_time": "2024-11-02T14:42:10.580786",
     "status": "completed"
    },
    "tags": []
   },
   "outputs": [],
   "source": []
  },
  {
   "cell_type": "code",
   "execution_count": null,
   "id": "91e973a0",
   "metadata": {
    "papermill": {
     "duration": 3.699264,
     "end_time": "2024-11-02T14:42:21.940339",
     "exception": false,
     "start_time": "2024-11-02T14:42:18.241075",
     "status": "completed"
    },
    "tags": []
   },
   "outputs": [],
   "source": []
  },
  {
   "cell_type": "markdown",
   "id": "e1c8798f",
   "metadata": {
    "papermill": {
     "duration": 3.762629,
     "end_time": "2024-11-02T14:42:29.423167",
     "exception": false,
     "start_time": "2024-11-02T14:42:25.660538",
     "status": "completed"
    },
    "tags": []
   },
   "source": []
  },
  {
   "cell_type": "code",
   "execution_count": null,
   "id": "c861e942",
   "metadata": {
    "papermill": {
     "duration": 3.813253,
     "end_time": "2024-11-02T14:42:44.576464",
     "exception": false,
     "start_time": "2024-11-02T14:42:40.763211",
     "status": "completed"
    },
    "tags": []
   },
   "outputs": [],
   "source": []
  },
  {
   "cell_type": "markdown",
   "id": "e18536ed",
   "metadata": {
    "papermill": {
     "duration": 3.811791,
     "end_time": "2024-11-02T14:42:52.177777",
     "exception": false,
     "start_time": "2024-11-02T14:42:48.365986",
     "status": "completed"
    },
    "tags": []
   },
   "source": [
    "# for Best model\n"
   ]
  },
  {
   "cell_type": "code",
   "execution_count": 7,
   "id": "01808a8b",
   "metadata": {
    "execution": {
     "iopub.execute_input": "2024-11-02T14:42:59.701452Z",
     "iopub.status.busy": "2024-11-02T14:42:59.701041Z",
     "iopub.status.idle": "2024-11-02T14:43:13.064246Z",
     "shell.execute_reply": "2024-11-02T14:43:13.062991Z"
    },
    "papermill": {
     "duration": 17.091169,
     "end_time": "2024-11-02T14:43:13.066313",
     "exception": false,
     "start_time": "2024-11-02T14:42:55.975144",
     "status": "completed"
    },
    "tags": []
   },
   "outputs": [
    {
     "name": "stderr",
     "output_type": "stream",
     "text": [
      "/opt/conda/lib/python3.10/site-packages/torch/utils/data/dataloader.py:557: UserWarning: This DataLoader will create 8 worker processes in total. Our suggested max number of worker in current system is 4, which is smaller than what this DataLoader is going to create. Please be aware that excessive worker creation might get DataLoader running slow or even freeze, lower the worker number to avoid potential slowness/freeze if necessary.\n",
      "  warnings.warn(_create_warning_msg(\n",
      "/tmp/ipykernel_23/4070148527.py:22: FutureWarning: You are using `torch.load` with `weights_only=False` (the current default value), which uses the default pickle module implicitly. It is possible to construct malicious pickle data which will execute arbitrary code during unpickling (See https://github.com/pytorch/pytorch/blob/main/SECURITY.md#untrusted-models for more details). In a future release, the default value for `weights_only` will be flipped to `True`. This limits the functions that could be executed during unpickling. Arbitrary objects will no longer be allowed to be loaded via this mode unless they are explicitly allowlisted by the user via `torch.serialization.add_safe_globals`. We recommend you start setting `weights_only=True` for any use case where you don't have full control of the loaded file. Please open an issue on GitHub for any issues related to this experimental feature.\n",
      "  model.load_state_dict(torch.load(best_model_path))\n"
     ]
    },
    {
     "name": "stdout",
     "output_type": "stream",
     "text": [
      "Test Accuracy: 0.8592\n",
      "Test Precision: 0.9147\n",
      "Test Recall: 0.8110\n",
      "Test F1 Score: 0.8597\n",
      "Test AUC-ROC: 0.9275\n"
     ]
    }
   ],
   "source": [
    "import torch\n",
    "from torch.utils.data import DataLoader\n",
    "from sklearn.metrics import accuracy_score, precision_score, recall_score, f1_score, roc_auc_score\n",
    "import numpy as np\n",
    "\n",
    "# Assuming test_df and img_folder paths are defined, and you have a test dataset loader\n",
    "test_df = pd.read_csv('/kaggle/input/roi-images-hda/masks_csvs/glaucoma_masks_test.csv')  # Path to test CSV\n",
    "test_dataset = GlaucomaDataset(dataframe=test_df, img_folder=img_folder, transform=test_transform(), extra_features=None)\n",
    "test_loader = DataLoader(test_dataset, batch_size=20, shuffle=False, num_workers=8)\n",
    "\n",
    "# best_model_directory = '/kaggle/input/model-for-hda/best_model/'\n",
    "\n",
    "# Load the best model\n",
    "device = torch.device(\"cuda\" if torch.cuda.is_available() else \"cpu\")\n",
    "model = vit_b_16(weights=ViT_B_16_Weights.IMAGENET1K_SWAG_E2E_V1)\n",
    "\n",
    "# Update the model's final layer for binary classification\n",
    "num_features = model.heads.head.in_features\n",
    "model.heads.head = nn.Linear(num_features, 1)\n",
    "\n",
    "best_model_path = os.path.join(best_model_directory, f\"{model_name}_best.pth\")\n",
    "model.load_state_dict(torch.load(best_model_path))\n",
    "model.to(device)\n",
    "model.eval()\n",
    "\n",
    "# Initialize lists to collect true labels and predictions\n",
    "all_labels = []\n",
    "all_preds = []\n",
    "\n",
    "# Testing loop\n",
    "with torch.no_grad():\n",
    "    for images, labels in test_loader:\n",
    "        images, labels = images.to(device), labels.to(device)\n",
    "        \n",
    "        # Get predictions\n",
    "        outputs = model(images)\n",
    "        preds = torch.sigmoid(outputs).squeeze().cpu().numpy()  # Apply sigmoid to get probabilities\n",
    "        \n",
    "        # Store labels and predictions\n",
    "        all_labels.extend(labels.cpu().numpy())\n",
    "        all_preds.extend(preds)\n",
    "\n",
    "# Convert predictions to binary classes with a threshold of 0.5\n",
    "binary_preds = (np.array(all_preds) > 0.5).astype(int)\n",
    "\n",
    "# Calculate metrics\n",
    "test_accuracy = accuracy_score(all_labels, binary_preds)\n",
    "test_precision = precision_score(all_labels, binary_preds)\n",
    "test_recall = recall_score(all_labels, binary_preds)\n",
    "test_f1 = f1_score(all_labels, binary_preds)\n",
    "test_auc = roc_auc_score(all_labels, all_preds)\n",
    "\n",
    "# Print the results\n",
    "print(f\"Test Accuracy: {test_accuracy:.4f}\")\n",
    "print(f\"Test Precision: {test_precision:.4f}\")\n",
    "print(f\"Test Recall: {test_recall:.4f}\")\n",
    "print(f\"Test F1 Score: {test_f1:.4f}\")\n",
    "print(f\"Test AUC-ROC: {test_auc:.4f}\")\n"
   ]
  },
  {
   "cell_type": "code",
   "execution_count": 8,
   "id": "a2776438",
   "metadata": {
    "execution": {
     "iopub.execute_input": "2024-11-02T14:43:20.769993Z",
     "iopub.status.busy": "2024-11-02T14:43:20.769604Z",
     "iopub.status.idle": "2024-11-02T14:43:20.777300Z",
     "shell.execute_reply": "2024-11-02T14:43:20.776353Z"
    },
    "papermill": {
     "duration": 3.882973,
     "end_time": "2024-11-02T14:43:20.779281",
     "exception": false,
     "start_time": "2024-11-02T14:43:16.896308",
     "status": "completed"
    },
    "tags": []
   },
   "outputs": [],
   "source": [
    "# import os\n",
    "# import pandas as pd\n",
    "# import torch\n",
    "# import torch.nn as nn\n",
    "# from torchvision.models import vit_l_16, ViT_L_16_Weights\n",
    "# from torch.utils.data import DataLoader\n",
    "# import numpy as np\n",
    "# from sklearn.metrics import roc_auc_score, roc_curve\n",
    "# from tqdm import tqdm\n",
    "\n",
    "# # from data_utils import GlaucomaDataset, test_transform\n",
    "\n",
    "# ####### Adjust this section as needed ############################\n",
    "# # model_save_directory = './model/ViT_glaucoma_ROI'    \n",
    "# # img_folder = './ROI_images' \n",
    "# # test_df = pd.read_csv('./Datasets/glaucoma_masks_test.csv')\n",
    "\n",
    "# # Unmute to validate ViT without ROI\n",
    "# model_save_directory = '/kaggle/working/model'  \n",
    "# img_folder = '/kaggle/input/preprocessed-image-hda-without-roi/preprocessed_images' \n",
    "# test_df = pd.read_csv('/kaggle/input/images-hda-before-preprocess/glaucoma_no_mask_test.csv')\n",
    "# #################################################################\n",
    "\n",
    "# # Load test data\n",
    "# test_dataset = GlaucomaDataset(dataframe=test_df, img_folder=img_folder, transform=test_transform)\n",
    "# test_loader = DataLoader(test_dataset, batch_size=12, shuffle=True, num_workers=2)\n",
    "\n",
    "# # Model setup\n",
    "# device = torch.device(\"cuda\" if torch.cuda.is_available() else \"cpu\")\n",
    "# # model = vit_l_16(weights=ViT_L_16_Weights.IMAGENET1K_SWAG_E2E_V1)\n",
    "# weights = ViT_B_16_Weights.IMAGENET1K_SWAG_E2E_V1                                                                                               \n",
    "# model = vit_b_16(weights=weights)\n",
    "# model.heads.head = nn.Linear(model.heads.head.in_features, 1)\n",
    "# model.to(device)\n",
    "\n",
    "# def load_model(model, model_path, device):\n",
    "#     state_dict = torch.load(model_path, map_location=device)\n",
    "#     if any(k.startswith('module.') for k in state_dict.keys()):\n",
    "#         new_state_dict = {k.replace('module.', ''): v for k, v in state_dict.items()}\n",
    "#     else:\n",
    "#         new_state_dict = state_dict\n",
    "#     model.load_state_dict(new_state_dict)\n",
    "\n",
    "# def compute_metrics(actuals, probabilities):\n",
    "#     fpr, tpr, thresholds = roc_curve(actuals, probabilities)\n",
    "#     target_specificity = 0.95\n",
    "#     target_fpr = 1 - target_specificity\n",
    "\n",
    "#     # Find the first threshold where FPR is <= target FPR\n",
    "#     index = np.where(fpr <= target_fpr)[0][0]\n",
    "#     optimal_threshold = thresholds[index]\n",
    "#     predictions = (probabilities >= optimal_threshold).astype(int)\n",
    "\n",
    "#     TP = np.sum((actuals == 1) & (predictions == 1))\n",
    "#     TN = np.sum((actuals == 0) & (predictions == 0))\n",
    "#     FP = np.sum((actuals == 0) & (predictions == 1))\n",
    "#     FN = np.sum((actuals == 1) & (predictions == 0))\n",
    "\n",
    "#     sensitivity = TP / (TP + FN) if TP + FN > 0 else 0\n",
    "#     specificity = TN / (TN + FP) if TN + FP > 0 else 0\n",
    "#     accuracy = (TP + TN) / (TP + TN + FP + FN) if TP + TN + FP + FN > 0 else 0\n",
    "#     auc = roc_auc_score(actuals, probabilities) if len(np.unique(actuals)) > 1 else 0\n",
    "#     return sensitivity, specificity, accuracy, auc, optimal_threshold\n",
    "\n",
    "# # Evaluate all models in the directory\n",
    "# for filename in os.listdir(model_save_directory):\n",
    "#     if filename.endswith(\".pth\"):\n",
    "#         model_path = os.path.join(model_save_directory, filename)\n",
    "#         load_model(model, model_path, device)\n",
    "#         model.eval()\n",
    "\n",
    "#         all_labels = []\n",
    "#         all_probabilities = []\n",
    "#         with torch.no_grad():\n",
    "#             for images, labels in tqdm(test_loader, desc=f\"Evaluating {filename}\", leave=True):\n",
    "#                 images = images.to(device)\n",
    "#                 outputs = model(images)\n",
    "#                 probabilities = torch.sigmoid(outputs).squeeze()\n",
    "#                 all_labels.extend(labels.numpy())\n",
    "#                 all_probabilities.extend(probabilities.cpu().numpy())\n",
    "\n",
    "#         sensitivity, specificity, accuracy, auc_score, optimal_threshold = compute_metrics(np.array(all_labels), np.array(all_probabilities))\n",
    "#         print(f\"Model: {filename}\")\n",
    "#         print(f\"Sensitivity: {sensitivity:.4f}\")\n",
    "#         print(f\"Specificity: {specificity:.4f}\")\n",
    "#         print(f\"Accuracy: {accuracy:.4f}\")\n",
    "#         print(f\"AUC Score: {auc_score:.4f}\")\n",
    "#         print(f\"Optimal Threshold: {optimal_threshold:.4f}\\n\")"
   ]
  }
 ],
 "metadata": {
  "kaggle": {
   "accelerator": "none",
   "dataSources": [
    {
     "datasetId": 5949106,
     "sourceId": 9722993,
     "sourceType": "datasetVersion"
    },
    {
     "datasetId": 5948313,
     "sourceId": 9725670,
     "sourceType": "datasetVersion"
    },
    {
     "datasetId": 5992903,
     "sourceId": 9781986,
     "sourceType": "datasetVersion"
    },
    {
     "datasetId": 5964505,
     "sourceId": 9785434,
     "sourceType": "datasetVersion"
    }
   ],
   "dockerImageVersionId": 30786,
   "isGpuEnabled": false,
   "isInternetEnabled": true,
   "language": "python",
   "sourceType": "notebook"
  },
  "kernelspec": {
   "display_name": "Python 3",
   "language": "python",
   "name": "python3"
  },
  "language_info": {
   "codemirror_mode": {
    "name": "ipython",
    "version": 3
   },
   "file_extension": ".py",
   "mimetype": "text/x-python",
   "name": "python",
   "nbconvert_exporter": "python",
   "pygments_lexer": "ipython3",
   "version": "3.10.14"
  },
  "papermill": {
   "default_parameters": {},
   "duration": 12669.176885,
   "end_time": "2024-11-02T14:43:27.087643",
   "environment_variables": {},
   "exception": null,
   "input_path": "__notebook__.ipynb",
   "output_path": "__notebook__.ipynb",
   "parameters": {},
   "start_time": "2024-11-02T11:12:17.910758",
   "version": "2.6.0"
  }
 },
 "nbformat": 4,
 "nbformat_minor": 5
}
